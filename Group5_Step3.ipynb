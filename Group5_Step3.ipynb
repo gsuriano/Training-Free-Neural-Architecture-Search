{
  "cells": [
    {
      "cell_type": "markdown",
      "source": [
        "# Imports, api, datasets and functions to use Naswot metric"
      ],
      "metadata": {
        "id": "ALolaoragulP"
      }
    },
    {
      "cell_type": "code",
      "execution_count": null,
      "metadata": {
        "colab": {
          "base_uri": "https://localhost:8080/",
          "height": 1000
        },
        "outputId": "55e764cb-f338-4198-d403-22edaf9437b5",
        "id": "sK9a6n44hGK6"
      },
      "outputs": [
        {
          "output_type": "stream",
          "name": "stdout",
          "text": [
            "Looking in indexes: https://pypi.org/simple, https://us-python.pkg.dev/colab-wheels/public/simple/\n",
            "Collecting nats_bench\n",
            "  Downloading nats_bench-1.7-py3-none-any.whl (32 kB)\n",
            "Requirement already satisfied: numpy>=1.16.5 in /usr/local/lib/python3.7/dist-packages (from nats_bench) (1.21.6)\n",
            "Installing collected packages: nats-bench\n",
            "Successfully installed nats-bench-1.7\n",
            "--2022-06-27 13:47:15--  https://www.dropbox.com/sh/ceeo70u1buow681/AADxyCvBAnE6mMjp7JOoo0LVa/NATS-tss-v1_0-3ffb9-simple.tar\n",
            "Resolving www.dropbox.com (www.dropbox.com)... 162.125.1.18, 2620:100:6016:18::a27d:112\n",
            "Connecting to www.dropbox.com (www.dropbox.com)|162.125.1.18|:443... connected.\n",
            "HTTP request sent, awaiting response... 301 Moved Permanently\n",
            "Location: /sh/raw/ceeo70u1buow681/AADxyCvBAnE6mMjp7JOoo0LVa/NATS-tss-v1_0-3ffb9-simple.tar [following]\n",
            "--2022-06-27 13:47:15--  https://www.dropbox.com/sh/raw/ceeo70u1buow681/AADxyCvBAnE6mMjp7JOoo0LVa/NATS-tss-v1_0-3ffb9-simple.tar\n",
            "Reusing existing connection to www.dropbox.com:443.\n",
            "HTTP request sent, awaiting response... 302 Found\n",
            "Location: https://uc1c65f0a3ac1d32886c900ff0a1.dl.dropboxusercontent.com/cd/0/inline/BoCzN1GuzRoXSiStcXBAiohrOPAY4_i5LEIw6eiahDdy13tuC6tjI5guYlekq1Iz5KrfZCwXBTy09Sg6rEkkVWbEc8SMhrIX3Iv1gtwAMecuRzYnKwoVScPPeKFE6pci7YNwC-gEiKcw1-t77CuSqvUfuzLsY8FpiyvZ26s5_3MBIQ/file# [following]\n",
            "--2022-06-27 13:47:15--  https://uc1c65f0a3ac1d32886c900ff0a1.dl.dropboxusercontent.com/cd/0/inline/BoCzN1GuzRoXSiStcXBAiohrOPAY4_i5LEIw6eiahDdy13tuC6tjI5guYlekq1Iz5KrfZCwXBTy09Sg6rEkkVWbEc8SMhrIX3Iv1gtwAMecuRzYnKwoVScPPeKFE6pci7YNwC-gEiKcw1-t77CuSqvUfuzLsY8FpiyvZ26s5_3MBIQ/file\n",
            "Resolving uc1c65f0a3ac1d32886c900ff0a1.dl.dropboxusercontent.com (uc1c65f0a3ac1d32886c900ff0a1.dl.dropboxusercontent.com)... 162.125.1.15, 2620:100:6016:15::a27d:10f\n",
            "Connecting to uc1c65f0a3ac1d32886c900ff0a1.dl.dropboxusercontent.com (uc1c65f0a3ac1d32886c900ff0a1.dl.dropboxusercontent.com)|162.125.1.15|:443... connected.\n",
            "HTTP request sent, awaiting response... 302 Found\n",
            "Location: /cd/0/inline2/BoCS02lV_rxbyMupladbmDXrrWLKUSps0cUSzZg6v1_d3lmLPPxN1pIGs-dC0jCzXcSbgk76GLoT5n3N8GEbMNzql4qV_dzqdPuVyV8uuzp5wk95KT1idWuHQHxbtNYqABUqgKa7g09fZt7iahOIB79gH6SyNT8V2SuebR1QhJ_lxkmb4kJQKZOwOvfsCHwhjoOLniJUfjfZyQC858MzQMQJ5f_GGOdXQUI66q__w7k5Ru0HK4O_bP7hGOLPHFJPj-p8JSX023wmn3ObMpuCGX1_G-jmypFqTMXWVdp2uKvIewms9-oeca_ijXxlNBVBNCHBVHdjqYRS6BX0R_FsuQX_MP3gCYfrp6XQKBEPzxgpw7GnGM4WYp3Wm2Wp0RRNVHr3fuWTa0RJyKfK7t_3g5L8pVRNpwYM6TmAcJWMjjF5Bw/file [following]\n",
            "--2022-06-27 13:47:15--  https://uc1c65f0a3ac1d32886c900ff0a1.dl.dropboxusercontent.com/cd/0/inline2/BoCS02lV_rxbyMupladbmDXrrWLKUSps0cUSzZg6v1_d3lmLPPxN1pIGs-dC0jCzXcSbgk76GLoT5n3N8GEbMNzql4qV_dzqdPuVyV8uuzp5wk95KT1idWuHQHxbtNYqABUqgKa7g09fZt7iahOIB79gH6SyNT8V2SuebR1QhJ_lxkmb4kJQKZOwOvfsCHwhjoOLniJUfjfZyQC858MzQMQJ5f_GGOdXQUI66q__w7k5Ru0HK4O_bP7hGOLPHFJPj-p8JSX023wmn3ObMpuCGX1_G-jmypFqTMXWVdp2uKvIewms9-oeca_ijXxlNBVBNCHBVHdjqYRS6BX0R_FsuQX_MP3gCYfrp6XQKBEPzxgpw7GnGM4WYp3Wm2Wp0RRNVHr3fuWTa0RJyKfK7t_3g5L8pVRNpwYM6TmAcJWMjjF5Bw/file\n",
            "Reusing existing connection to uc1c65f0a3ac1d32886c900ff0a1.dl.dropboxusercontent.com:443.\n",
            "HTTP request sent, awaiting response... 200 OK\n",
            "Length: 1145989120 (1.1G) [application/x-tar]\n",
            "Saving to: ‘NATS-tss-v1_0-3ffb9-simple.tar’\n",
            "\n",
            "NATS-tss-v1_0-3ffb9 100%[===================>]   1.07G   119MB/s    in 8.1s    \n",
            "\n",
            "2022-06-27 13:47:24 (135 MB/s) - ‘NATS-tss-v1_0-3ffb9-simple.tar’ saved [1145989120/1145989120]\n",
            "\n",
            "Looking in indexes: https://pypi.org/simple, https://us-python.pkg.dev/colab-wheels/public/simple/\n",
            "Collecting xautodl\n",
            "  Downloading xautodl-1.0.0-py3-none-any.whl (225 kB)\n",
            "\u001b[K     |████████████████████████████████| 225 kB 7.8 MB/s \n",
            "\u001b[?25hCollecting pyyaml>=5.0.0\n",
            "  Downloading PyYAML-6.0-cp37-cp37m-manylinux_2_5_x86_64.manylinux1_x86_64.manylinux_2_12_x86_64.manylinux2010_x86_64.whl (596 kB)\n",
            "\u001b[K     |████████████████████████████████| 596 kB 39.8 MB/s \n",
            "\u001b[?25hCollecting numpy<=1.19.5,>=1.16.5\n",
            "  Downloading numpy-1.19.5-cp37-cp37m-manylinux2010_x86_64.whl (14.8 MB)\n",
            "\u001b[K     |████████████████████████████████| 14.8 MB 52.4 MB/s \n",
            "\u001b[?25hCollecting fvcore\n",
            "  Downloading fvcore-0.1.5.post20220512.tar.gz (50 kB)\n",
            "\u001b[K     |████████████████████████████████| 50 kB 7.3 MB/s \n",
            "\u001b[?25hCollecting yacs>=0.1.6\n",
            "  Downloading yacs-0.1.8-py3-none-any.whl (14 kB)\n",
            "Requirement already satisfied: tqdm in /usr/local/lib/python3.7/dist-packages (from fvcore->xautodl) (4.64.0)\n",
            "Requirement already satisfied: termcolor>=1.1 in /usr/local/lib/python3.7/dist-packages (from fvcore->xautodl) (1.1.0)\n",
            "Requirement already satisfied: Pillow in /usr/local/lib/python3.7/dist-packages (from fvcore->xautodl) (7.1.2)\n",
            "Requirement already satisfied: tabulate in /usr/local/lib/python3.7/dist-packages (from fvcore->xautodl) (0.8.9)\n",
            "Collecting iopath>=0.1.7\n",
            "  Downloading iopath-0.1.9-py3-none-any.whl (27 kB)\n",
            "Collecting portalocker\n",
            "  Downloading portalocker-2.4.0-py2.py3-none-any.whl (16 kB)\n",
            "Building wheels for collected packages: fvcore\n",
            "  Building wheel for fvcore (setup.py) ... \u001b[?25l\u001b[?25hdone\n",
            "  Created wheel for fvcore: filename=fvcore-0.1.5.post20220512-py3-none-any.whl size=61288 sha256=ae66a44f744674ca0012200ed5cb289830bdd45773d168d64e9ff9c984cbaa6e\n",
            "  Stored in directory: /root/.cache/pip/wheels/68/20/f9/a11a0dd63f4c13678b2a5ec488e48078756505c7777b75b29e\n",
            "Successfully built fvcore\n",
            "Installing collected packages: pyyaml, portalocker, yacs, numpy, iopath, fvcore, xautodl\n",
            "  Attempting uninstall: pyyaml\n",
            "    Found existing installation: PyYAML 3.13\n",
            "    Uninstalling PyYAML-3.13:\n",
            "      Successfully uninstalled PyYAML-3.13\n",
            "  Attempting uninstall: numpy\n",
            "    Found existing installation: numpy 1.21.6\n",
            "    Uninstalling numpy-1.21.6:\n",
            "      Successfully uninstalled numpy-1.21.6\n",
            "\u001b[31mERROR: pip's dependency resolver does not currently take into account all the packages that are installed. This behaviour is the source of the following dependency conflicts.\n",
            "xarray-einstats 0.2.2 requires numpy>=1.21, but you have numpy 1.19.5 which is incompatible.\n",
            "tensorflow 2.8.2+zzzcolab20220527125636 requires numpy>=1.20, but you have numpy 1.19.5 which is incompatible.\n",
            "datascience 0.10.6 requires folium==0.2.1, but you have folium 0.8.3 which is incompatible.\n",
            "albumentations 0.1.12 requires imgaug<0.2.7,>=0.2.5, but you have imgaug 0.2.9 which is incompatible.\u001b[0m\n",
            "Successfully installed fvcore-0.1.5.post20220512 iopath-0.1.9 numpy-1.19.5 portalocker-2.4.0 pyyaml-6.0 xautodl-1.0.0 yacs-0.1.8\n"
          ]
        },
        {
          "output_type": "display_data",
          "data": {
            "application/vnd.colab-display-data+json": {
              "pip_warning": {
                "packages": [
                  "numpy"
                ]
              }
            }
          },
          "metadata": {}
        }
      ],
      "source": [
        "!pip install nats_bench\n",
        "!wget \"https://www.dropbox.com/sh/ceeo70u1buow681/AADxyCvBAnE6mMjp7JOoo0LVa/NATS-tss-v1_0-3ffb9-simple.tar\"\n",
        "!tar -xf \"NATS-tss-v1_0-3ffb9-simple.tar\"\n",
        "\n",
        "!pip install xautodl"
      ]
    },
    {
      "cell_type": "code",
      "source": [
        "!wget 'https://www.dropbox.com/s/o2fg17ipz57nru1/?dl=1' -O ImageNet16.tar.gz\n",
        "!tar -xf \"ImageNet16.tar.gz\""
      ],
      "metadata": {
        "colab": {
          "base_uri": "https://localhost:8080/"
        },
        "id": "nOHcpZQ5raC0",
        "outputId": "e089bfce-f3b2-43d5-cef3-166e5aa7db68"
      },
      "execution_count": null,
      "outputs": [
        {
          "output_type": "stream",
          "name": "stdout",
          "text": [
            "--2022-06-27 13:47:46--  https://www.dropbox.com/s/o2fg17ipz57nru1/?dl=1\n",
            "Resolving www.dropbox.com (www.dropbox.com)... 162.125.1.18, 2620:100:6016:18::a27d:112\n",
            "Connecting to www.dropbox.com (www.dropbox.com)|162.125.1.18|:443... connected.\n",
            "HTTP request sent, awaiting response... 301 Moved Permanently\n",
            "Location: /s/dl/o2fg17ipz57nru1 [following]\n",
            "--2022-06-27 13:47:46--  https://www.dropbox.com/s/dl/o2fg17ipz57nru1\n",
            "Reusing existing connection to www.dropbox.com:443.\n",
            "HTTP request sent, awaiting response... 302 Found\n",
            "Location: https://ucd96d94aacfc61016db4cb39929.dl-eu.dropboxusercontent.com/cd/0/get/BoAQ5yAKLtRRwxyTKVuvrzMVPsrgFdxcH6lYhnw0IU0RwPDcmWGKxXz2ueadGHupM9HtvOkh5D-SILn5bp8JfY1ymRqCOmiFWaBL7WZ-p01sOfZQa1KWYzF2W54DAY-CIpwQHeyQt1bnTieamCcJ00AxYQSSUJxTWy_OrAJBv2ghlavWB_UkDjY_rM8hlnvDdsk/file?dl=1# [following]\n",
            "--2022-06-27 13:47:47--  https://ucd96d94aacfc61016db4cb39929.dl-eu.dropboxusercontent.com/cd/0/get/BoAQ5yAKLtRRwxyTKVuvrzMVPsrgFdxcH6lYhnw0IU0RwPDcmWGKxXz2ueadGHupM9HtvOkh5D-SILn5bp8JfY1ymRqCOmiFWaBL7WZ-p01sOfZQa1KWYzF2W54DAY-CIpwQHeyQt1bnTieamCcJ00AxYQSSUJxTWy_OrAJBv2ghlavWB_UkDjY_rM8hlnvDdsk/file?dl=1\n",
            "Resolving ucd96d94aacfc61016db4cb39929.dl-eu.dropboxusercontent.com (ucd96d94aacfc61016db4cb39929.dl-eu.dropboxusercontent.com)... 162.125.3.15, 2620:100:6021:15::a27d:410f\n",
            "Connecting to ucd96d94aacfc61016db4cb39929.dl-eu.dropboxusercontent.com (ucd96d94aacfc61016db4cb39929.dl-eu.dropboxusercontent.com)|162.125.3.15|:443... connected.\n",
            "HTTP request sent, awaiting response... 200 OK\n",
            "Length: 967949552 (923M) [application/binary]\n",
            "Saving to: ‘ImageNet16.tar.gz’\n",
            "\n",
            "ImageNet16.tar.gz   100%[===================>] 923.11M  18.0MB/s    in 53s     \n",
            "\n",
            "2022-06-27 13:48:41 (17.6 MB/s) - ‘ImageNet16.tar.gz’ saved [967949552/967949552]\n",
            "\n"
          ]
        }
      ]
    },
    {
      "cell_type": "code",
      "source": [
        "!git clone https://github.com/gsuriano/Project8_Group5.git\n",
        "\n",
        "!mv Project8_Group5/* /content/"
      ],
      "metadata": {
        "colab": {
          "base_uri": "https://localhost:8080/"
        },
        "id": "vlW70c3zfktA",
        "outputId": "265ec958-a0ac-48d0-f882-55ee9d8e5d76"
      },
      "execution_count": null,
      "outputs": [
        {
          "output_type": "stream",
          "name": "stdout",
          "text": [
            "Cloning into 'Project8_Group5'...\n",
            "remote: Enumerating objects: 44, done.\u001b[K\n",
            "remote: Counting objects: 100% (44/44), done.\u001b[K\n",
            "remote: Compressing objects: 100% (44/44), done.\u001b[K\n",
            "remote: Total 44 (delta 10), reused 0 (delta 0), pack-reused 0\u001b[K\n",
            "Unpacking objects: 100% (44/44), done.\n"
          ]
        }
      ]
    },
    {
      "cell_type": "code",
      "execution_count": null,
      "metadata": {
        "id": "-fbLfcgRhGK9"
      },
      "outputs": [],
      "source": [
        "import torchvision.datasets as dset\n",
        "import torchvision.transforms as transforms\n",
        "from xautodl.datasets.DownsampledImageNet import ImageNet16\n",
        "from torchvision import transforms\n",
        "import numpy as np\n",
        "import torch\n",
        "import operator\n",
        "from numba import cuda\n",
        "from nats_bench import create\n",
        "from xautodl.models import get_cell_based_tiny_net\n",
        "import random\n",
        "import pandas as pd\n",
        "import os\n",
        "from scipy import stats\n",
        "import time\n",
        "import operator\n",
        "import math\n",
        "import seaborn as sns\n",
        "import matplotlib.pyplot as plt\n",
        "from models import *\n",
        "from pruners import *\n",
        "from pruners import predictive\n",
        "from pruners.predictive import find_measures\n",
        "from copy import deepcopy\n",
        "import math"
      ]
    },
    {
      "cell_type": "code",
      "execution_count": null,
      "metadata": {
        "id": "8zkHxjuIdqMm"
      },
      "outputs": [],
      "source": [
        "# Create the API instance for the size search space in NATS\n",
        "api = create(\"/content/NATS-tss-v1_0-3ffb9-simple/\", 'tss', fast_mode=True, verbose=False)\n",
        "\n",
        "#tranforms to tensor the input data, no data augmentation needed\n",
        "transform = transforms.Compose([\n",
        "    transforms.ToTensor()\n",
        "])\n",
        "\n",
        "#funtion to retrieve the train loader\n",
        "def get_data(dataset, batch_size, pin_memory=True):\n",
        "  transform = transforms.Compose([\n",
        "    transforms.ToTensor() ])\n",
        "  if dataset == 'cifar10':\n",
        "    train_data = dset.CIFAR10 (\"/content/Cifar10\", train=True ,transform = transform, download=True)\n",
        "\n",
        "  elif dataset == 'cifar100':\n",
        "    train_data = dset.CIFAR100(\"/content/Cifar100\", train=True ,transform = transform, download=True)\n",
        "    \n",
        "  elif dataset == 'ImageNet16-120':\n",
        "    train_data = ImageNet16(\"/content/ImageNet16\", True, transform = transform)\n",
        "\n",
        "  train_loader = torch.utils.data.DataLoader(train_data, batch_size=batch_size, shuffle=True, num_workers=0, pin_memory=pin_memory)\n",
        "  \n",
        "  return train_loader\n"
      ]
    },
    {
      "cell_type": "code",
      "execution_count": null,
      "metadata": {
        "id": "7CkHE9SblctR"
      },
      "outputs": [],
      "source": [
        "def getnumclass(dataset):\n",
        "  return 10 if dataset == 'cifar10' else 100 if dataset == 'cifar100' else 120 \n",
        "\n",
        "#log of kernel function\n",
        "def logdet(K):\n",
        "    s, ld = np.linalg.slogdet(K)\n",
        "    return ld\n",
        "\n",
        "#weight initialization function\n",
        "def init(m):\n",
        "    if isinstance(m, (torch.nn.Conv2d, torch.nn.Linear)):\n",
        "        torch.nn.init.xavier_normal_(m.weight)\n",
        "\n",
        "# function to compute Hamming Distance, using cuda jit library\n",
        "# A is the binary codification of the current Relu output\n",
        "# C is the hamming distance (result of this function) \n",
        "@cuda.jit\n",
        "def constructK(A,C):\n",
        "    i, j = cuda.grid(2)\n",
        "    if i < C.shape[0] and j < C.shape[1]:\n",
        "        tmp = 0.\n",
        "        for k in range(A.shape[1]):\n",
        "            tmp += operator.xor(bool(A[i, k]),bool(A[j, k]))\n",
        "        C[i, j] = tmp"
      ]
    },
    {
      "cell_type": "code",
      "source": [
        "# hook registered on forward in each Relu instance of the network\n",
        "# here we binarize the output of Relu, setup the parameters to parallelize with cuda.jit\n",
        "# construct the kernel matrix\n",
        "def counting_forward_hook(module, inp, out):\n",
        "  if isinstance(inp, tuple):\n",
        "    inp = inp[0]\n",
        "  inp = inp.view(inp.size(0), -1)\n",
        "  inp = (inp > 0).float()\n",
        "\n",
        "  inp = cuda.to_device(inp)\n",
        "  temp = cuda.device_array((inp.shape[0], inp.shape[0]))\n",
        "\n",
        "  threadsperblock = (8,8)\n",
        "  blockspergrid = (16,16)\n",
        "\n",
        "# Start the kernel \n",
        "  constructK[blockspergrid, threadsperblock](inp, temp)\n",
        "\n",
        "# Copy the result back to the host\n",
        "  global Ktemp, device\n",
        "  temp = torch.tensor(temp.copy_to_host()).to(device)\n",
        "  temp = inp.shape[1]-temp\n",
        "  Ktemp = Ktemp + temp\n"
      ],
      "metadata": {
        "id": "4btNaLGVz8wu"
      },
      "execution_count": null,
      "outputs": []
    },
    {
      "cell_type": "markdown",
      "source": [
        "#Generate child functions\n",
        "Mutation, majority vote, inversion and crossover"
      ],
      "metadata": {
        "id": "AAjXe31iEKaY"
      }
    },
    {
      "cell_type": "code",
      "execution_count": null,
      "metadata": {
        "id": "H6Kbpytr-naZ"
      },
      "outputs": [],
      "source": [
        "# function to check if there is a skip connection in the network \n",
        "def control(arch):\n",
        "\n",
        "  skip = [ node[0] == 'skip_connect' for node in arch]\n",
        "  \n",
        "  if sum(skip) == 0:\n",
        "    return -1\n",
        "  "
      ]
    },
    {
      "cell_type": "code",
      "execution_count": null,
      "metadata": {
        "id": "TdSxI-gzcRFq"
      },
      "outputs": [],
      "source": [
        "# available operations\n",
        "op_names = [\n",
        "            \"none\",\n",
        "            \"skip_connect\",\n",
        "            \"nor_conv_1x1\",\n",
        "            \"nor_conv_3x3\",\n",
        "            \"avg_pool_3x3\",\n",
        "]\n",
        "\n",
        "# function to reconstruct the string that describes the network structure\n",
        "# useful to retrieve the index of the network with query_index_by_arch\n",
        "def list2string(l):\n",
        "  return f'|{l[0][0][0]}~{l[0][0][1]}|+|{l[1][0][0]}~{l[1][0][1]}|{l[1][1][0]}~{l[1][1][1]}|+|{l[2][0][0]}~{l[2][0][1]}|{l[2][1][0]}~{l[2][1][1]}|{l[2][2][0]}~{l[2][2][1]}|'\n",
        "\n",
        "# change the architecture of the parent\n",
        "def mutate(arch_child):\n",
        "  rand_idx = np.random.randint(0,len(arch_child))\n",
        "  rand_op = random.choice(op_names)\n",
        "  arch_child[rand_idx] = (rand_op,arch_child[rand_idx][1])\n",
        "\n",
        "  if control(arch_child) == -1:\n",
        "    return -1\n",
        "  \n",
        "  str_arch = list2string( [ ( arch_child[0],) , ( arch_child[1] , arch_child[2] ) , ( arch_child[3] , arch_child[4] , arch_child[5] ) ] )\n",
        "  return api.query_index_by_arch(str_arch)\n",
        "\n",
        "# generate the list of tuples, useful to be changed with the mutate(architecture)\n",
        "def generateChild(parent,api):\n",
        "  arch_parent = api.str2lists(api.get_net_config(int(parent), 'cifar10')['arch_str'])\n",
        "  arch_child = []\n",
        "  for i in range(3):\n",
        "    for j in range(i+1):\n",
        "      arch_child.append(arch_parent[i][j])\n",
        "\n",
        "  return mutate(arch_child)"
      ]
    },
    {
      "cell_type": "code",
      "execution_count": null,
      "metadata": {
        "id": "15Jk0lOzp4Je"
      },
      "outputs": [],
      "source": [
        "# majority vote generation:\n",
        "# fixed the edge we consider all the available operations and given a sample\n",
        "# we compute the average of the score associated with that operation in thaat position\n",
        "# generating a new architecture picking the highest average score operations\n",
        "def generateChildbyVote(sample,metrics,api):\n",
        "\n",
        "  # list of the structured rapresentation of the sampled networks\n",
        "  sampledata = [ [ api.str2lists(api.get_net_config(i, 'cifar10')['arch_str']) , metrics[i] ] for i in range(len(sample)) ]\n",
        "  \n",
        "  for j in range(len(sample)):\n",
        "    arch_child = []\n",
        "    for a in range(3):\n",
        "      for b in range(a+1):\n",
        "        arch_child.append(sampledata[j][0][a][b])\n",
        "    sampledata[j][0] = arch_child\n",
        "\n",
        "  child = sampledata[1][0]\n",
        "\n",
        "  # for each edge : in practice for each position between the nodes\n",
        "  for i in range(6):\n",
        "    op = {\"none\" : [0,0],\n",
        "          \"skip_connect\" : [0,0],\n",
        "          \"nor_conv_1x1\": [0,0],\n",
        "          \"nor_conv_3x3\" : [0,0],\n",
        "          \"avg_pool_3x3\" : [0,0]}\n",
        "    \n",
        "    #considering all networks of the sample\n",
        "    for j in range(len(sample)):\n",
        "      op[ sampledata[j][0][i][0] ] [0] += sampledata[j][1]\n",
        "      op[ sampledata[j][0][i][0] ] [1] += 1\n",
        "    \n",
        "    # compute the average score of that operation in that position\n",
        "    for k in op.keys():\n",
        "      if op[k][1] != 0:\n",
        "        op[k] = op[k][0]/op[k][1]\n",
        "      else:\n",
        "        op[k] = 0\n",
        "\n",
        "    # take the highest one\n",
        "    op_name = max(op, key=op.get)\n",
        "   \n",
        "    child[i] = (op_name,child[i][1])\n",
        "  \n",
        "  # check if has at least one skip connection\n",
        "  if control(arch_child) == -1:\n",
        "    return -1\n",
        "  \n",
        "  str_arch = list2string( [ ( child[0],) , ( child[1] , child[2] ) , ( child[3] , child[4] , child[5] ) ] )\n",
        "  \n",
        "  return api.query_index_by_arch(str_arch)\n"
      ]
    },
    {
      "cell_type": "code",
      "execution_count": null,
      "metadata": {
        "id": "_4bOfCkEs_M_"
      },
      "outputs": [],
      "source": [
        "def inversion(arch_child):\n",
        "\n",
        "  # selecting two random indexes \n",
        "  rand_idx = sorted(np.random.randint(0,len(arch_child)+1,2))\n",
        "\n",
        "  # considering all the operations between these indexes\n",
        "  ops = [ arch_child[i][0]  for i in range(rand_idx[0],rand_idx[1])]\n",
        "  idx = 1\n",
        "\n",
        "  # inversion \n",
        "  for i in range(rand_idx[0],rand_idx[1]):\n",
        "    arch_child[i] = (ops[-idx],arch_child[i][1])\n",
        "    idx = idx + 1\n",
        "\n",
        "  if control(arch_child) == -1:\n",
        "    return -1\n",
        "\n",
        "  str_arch = list2string( [ ( arch_child[0],) , ( arch_child[1] , arch_child[2] ) , ( arch_child[3] , arch_child[4] , arch_child[5] ) ] )\n",
        "  return api.query_index_by_arch(str_arch)\n",
        "\n",
        "\n",
        "# generation of structured rapresentation needed for the inversion \n",
        "def generateChildByInversion(parent,api):\n",
        "  arch_parent = api.str2lists(api.get_net_config(int(parent), 'cifar10')['arch_str'])\n",
        "  arch_child = []\n",
        "  for i in range(3):\n",
        "    for j in range(i+1):\n",
        "      arch_child.append(arch_parent[i][j])\n",
        "\n",
        "  return inversion(arch_child)"
      ]
    },
    {
      "cell_type": "code",
      "source": [
        "# for each position (edge) we pick randomly an operation between two parents\n",
        "def mutateCrossover(parents):\n",
        "  child = []\n",
        "  for i in range(6):\n",
        "    p_idx = np.random.randint(0,2)\n",
        "    child.append(parents[p_idx][i])\n",
        "  str_arch = list2string( [ (child[0] ,) , ( child[1] , child[2] ) , ( child[3] , child[4] , child[5] ) ] )\n",
        "  del child\n",
        "  return api.query_index_by_arch(str_arch)\n",
        "\n",
        "\n",
        "# generation of structured rapresentation needed for the crossover \n",
        "def generateChildByCrossover(parents,api):\n",
        "  \n",
        "  arch_parent0 = api.str2lists(api.query_info_str_by_arch( int(parents[0]) ).split(\"\\n\")[0] )\n",
        "  arch_parent1 = api.str2lists(api.query_info_str_by_arch( int(parents[1]) ).split(\"\\n\")[0] )\n",
        "  parent0 = []\n",
        "  parent1 = []\n",
        "  for i in range(3):\n",
        "      for j in range(i+1):\n",
        "        parent0.append(arch_parent0[i][j])\n",
        "        parent1.append(arch_parent1[i][j])\n",
        "\n",
        "  del arch_parent0, arch_parent1\n",
        "  return mutateCrossover([parent0,parent1])\n"
      ],
      "metadata": {
        "id": "P6wgWT2uQN26"
      },
      "execution_count": null,
      "outputs": []
    },
    {
      "cell_type": "markdown",
      "metadata": {
        "id": "8I7JJ_JugPzm"
      },
      "source": [
        "#Rea with synflow\n",
        "\n",
        "Results of this test (rea_synflow.csv, stats_rea_synflow.csv) are already available on the Files section (downloaded from github)\n",
        "\n",
        "Please remember to delete this file if you want to replilcate this test"
      ]
    },
    {
      "cell_type": "code",
      "execution_count": null,
      "metadata": {
        "id": "jRqblu7hZhAe"
      },
      "outputs": [],
      "source": [
        "def get_score(dataset,net,api,train_loader,run,mode):\n",
        "\n",
        "  arch_tuple = api.str2lists(api.get_net_config(int(net), 'cifar10')['arch_str'])\n",
        "  arch= []\n",
        "  for i in range(3):\n",
        "    for j in range(i+1):\n",
        "      arch.append(arch_tuple[i][j])\n",
        "  \n",
        "  #check if there is a skip connection\n",
        "  if control(arch) == -1:\n",
        "    return -1\n",
        "  \n",
        "  config = api.get_net_config(net, dataset)\n",
        "  network = get_cell_based_tiny_net(config)\n",
        "  network.apply(init)\n",
        "\n",
        "  # calculate synflow\n",
        "  syn = find_measures(network,train_loader,('random',1,getnumclass(dataset)),device,measure_names=['synflow'])['synflow']\n",
        "\n",
        "  csv_dict = {'Dataset': dataset, 'Network': net, 'synflow' : np.log(syn)}\n",
        "  result = pd.DataFrame([csv_dict])\n",
        "\n",
        "  # save every model evaluated in out_dataset_run.csv\n",
        "  strfile = f\"/content/out_{dataset}_{run}.csv\"\n",
        "  result.to_csv(strfile, mode='a', index=False, header=False )\n",
        "\n",
        "  return np.log(syn)\n",
        "  "
      ]
    },
    {
      "cell_type": "code",
      "execution_count": null,
      "metadata": {
        "id": "6WbIa0OrgPWP",
        "colab": {
          "base_uri": "https://localhost:8080/",
          "height": 205,
          "referenced_widgets": [
            "ab0608e90c114b7d834ed1e01441dab8",
            "1783a585cecf4455b11d44ff5bd2c237",
            "90d4269369454fb1976cb7697f7a780d",
            "e8a88be954424469a3419061fd4320da",
            "24b565cf938b4834857ef4db9b59f436",
            "5d9d23698efe42f8bc81244780f58c05",
            "22116334f3c44e6094495d01edf94579",
            "ec2926fb43f442e39b21656965f0cfb9",
            "a02209ed06964f7ba2c6a7020cf12679",
            "d258aa9b998f4a80bbf3e0c6c1d07814",
            "378f628b48a44be4a668f888cda1c833",
            "4ad75296290849f789895f0ac064cc9a",
            "739e45d8b2dc40c7aaaed95a6fe562b4",
            "175968373acf43969bcd6e3aa7ab3844",
            "7dbe9832baad417cab30fc76cdac510d",
            "16a4dba4fdf44a30a757b67071174602",
            "eec317089ef64aa2a7c3bbbee731f4d3",
            "dc63820131dc4df9a7c3b03b6e257df5",
            "7aae7460988e46efae4118ae8441f246",
            "ed8dba39fdf8403ab268f2fafdcc8a1f",
            "7ed8b6dab05b4e028b7f3c5cdff3b88b",
            "6ecb995c405e43579a0e7acafb005480"
          ]
        },
        "outputId": "abe1a55e-5c23-4cb1-adf7-eb8b75fe042a"
      },
      "outputs": [
        {
          "output_type": "stream",
          "name": "stdout",
          "text": [
            "Downloading https://www.cs.toronto.edu/~kriz/cifar-10-python.tar.gz to /content/Cifar10/cifar-10-python.tar.gz\n"
          ]
        },
        {
          "output_type": "display_data",
          "data": {
            "text/plain": [
              "  0%|          | 0/170498071 [00:00<?, ?it/s]"
            ],
            "application/vnd.jupyter.widget-view+json": {
              "version_major": 2,
              "version_minor": 0,
              "model_id": "ab0608e90c114b7d834ed1e01441dab8"
            }
          },
          "metadata": {}
        },
        {
          "output_type": "stream",
          "name": "stdout",
          "text": [
            "Extracting /content/Cifar10/cifar-10-python.tar.gz to /content/Cifar10\n",
            "Downloading https://www.cs.toronto.edu/~kriz/cifar-100-python.tar.gz to /content/Cifar100/cifar-100-python.tar.gz\n"
          ]
        },
        {
          "output_type": "display_data",
          "data": {
            "text/plain": [
              "  0%|          | 0/169001437 [00:00<?, ?it/s]"
            ],
            "application/vnd.jupyter.widget-view+json": {
              "version_major": 2,
              "version_minor": 0,
              "model_id": "4ad75296290849f789895f0ac064cc9a"
            }
          },
          "metadata": {}
        },
        {
          "output_type": "stream",
          "name": "stdout",
          "text": [
            "Extracting /content/Cifar100/cifar-100-python.tar.gz to /content/Cifar100\n"
          ]
        },
        {
          "output_type": "stream",
          "name": "stderr",
          "text": [
            "/usr/local/lib/python3.7/dist-packages/ipykernel_launcher.py:20: RuntimeWarning: divide by zero encountered in log\n",
            "/usr/local/lib/python3.7/dist-packages/ipykernel_launcher.py:27: RuntimeWarning: divide by zero encountered in log\n"
          ]
        }
      ],
      "source": [
        "datasetNames = ['cifar10','cifar100','ImageNet16-120']\n",
        "\n",
        "batch_size = 128\n",
        "runs_rea = 10\n",
        "population_size = 50\n",
        "cicles = 200\n",
        "sample_size = 10\n",
        "\n",
        "device = torch.device(\"cuda:0\" if torch.cuda.is_available() else \"cpu\")\n",
        "\n",
        "for dataset in datasetNames:\n",
        "\n",
        "  train_loader = get_data(dataset, batch_size)\n",
        "\n",
        "  for run in range(runs_rea):\n",
        "    \n",
        "    start = time.time()\n",
        "\n",
        "    # random sample of networks : starting population\n",
        "    population =  np.random.randint(0,len(api),population_size)\n",
        "    history = population\n",
        "\n",
        "    # compute the synflow for each model of population\n",
        "    metricspop = np.array([ get_score(dataset,net,api,train_loader,run,'random') for net in population ])\n",
        "\n",
        "    #considering only the ones that have a skip connection\n",
        "    good_idx = (metricspop != -1)\n",
        "\n",
        "    population = population[good_idx]\n",
        "    metricspop = metricspop[good_idx]\n",
        "    history = history[good_idx]\n",
        "    \n",
        "    # while histpry is less than 200\n",
        "    while(len(history) < cicles):\n",
        "\n",
        "      #taking a random sample from population\n",
        "      sample_idx = np.random.randint(0,len(population),sample_size)\n",
        "      sample = population[sample_idx]\n",
        "\n",
        "      metrics = metricspop[sample_idx]\n",
        "\n",
        "      # model with highest score is the parent for mutation \n",
        "      parent = sample[np.argmax(metrics)]\n",
        "\n",
        "      child = generateChild(parent,api)\n",
        "      \n",
        "      if child not in history:\n",
        "        \n",
        "        # if it has a skip cpnnection\n",
        "        if child != -1:\n",
        "\n",
        "          # compute the score\n",
        "          scorechild = get_score(dataset,child,api,train_loader,run,'child')\n",
        "\n",
        "          if scorechild != -1:\n",
        "\n",
        "            # drop the oldest of the population  \n",
        "            population[:-1] = population[1:]\n",
        "            metricspop[:-1] = metricspop[1:]\n",
        "\n",
        "            # add the new model to the population\n",
        "            population[-1] = child\n",
        "            metricspop[-1] = scorechild\n",
        "\n",
        "            # store the new child in history\n",
        "            history = np.append(history,child)\n",
        "\n",
        "    strfile = f\"/content/out_{dataset}_{run}.csv\"\n",
        "    csv_df = pd.read_csv(strfile,names = ['Dataset','Network','syn'], header = None, index_col=['Dataset'])\n",
        "\n",
        "    tempo = time.time()-start\n",
        "\n",
        "    # taking the best synflow model we consider its test accuracy in 200 epoches of training\n",
        "    best = csv_df.nlargest(1,'syn')\n",
        "    acc = api.get_more_info(int(best['Network']),dataset,is_random=False,hp=200)['test-accuracy']\n",
        " \n",
        "    csv_dict = {'Dataset': dataset, 'Network': best['Network'].values[0], 'syn': best['syn'].values[0], 'Accuracy': acc, 'Time':tempo}\n",
        "    result = pd.DataFrame([csv_dict])\n",
        "    result.to_csv('rea_synflow.csv', mode='a', index=False, header=False )"
      ]
    },
    {
      "cell_type": "code",
      "source": [
        "# code to observe average/ standard deviation of synflow, accuracy and time in 10 runs\n",
        "df = pd.read_csv(\"/content/rea_synflow.csv\",names = ['Dataset','Network','syn','Accuracy','Time'], header = None, index_col=['Dataset','Network'])\n",
        "\n",
        "metric = df.groupby(by = 'Dataset')['syn'].describe()[['mean','std']]\n",
        "accuracy = df.groupby(by = 'Dataset')['Accuracy'].describe()[['mean','std']]\n",
        "time = df.groupby(by = 'Dataset')['Time'].describe()[['mean','std']]\n",
        "\n",
        "data = pd.concat([metric,accuracy,time],axis=1)\n",
        "data.to_csv('stats_rea_synflow.csv')"
      ],
      "metadata": {
        "id": "1MK-3w3qwMm0"
      },
      "execution_count": null,
      "outputs": []
    },
    {
      "cell_type": "markdown",
      "source": [
        "#Rea with naswot score\n",
        "\n",
        "Results of this test ( rea_naswot.csv , stats_rea_naswot.csv ) are already available on the Files section (downloaded from github)\n",
        "\n",
        "Please remember to delete this file if you want to replilcate this test"
      ],
      "metadata": {
        "id": "ZxcNulrC4YT-"
      }
    },
    {
      "cell_type": "code",
      "source": [
        "# mainly same code as before, but now we compute the naswot metric\n",
        "def get_score(dataset,net,api,train_loader,run,mode):\n",
        "\n",
        "  arch_tuple = api.str2lists(api.get_net_config(int(net), 'cifar10')['arch_str'])\n",
        "  arch= []\n",
        "  for i in range(3):\n",
        "    for j in range(i+1):\n",
        "      arch.append(arch_tuple[i][j])\n",
        "  \n",
        "  if control(arch) == -1:\n",
        "    return -1\n",
        "\n",
        "  config = api.get_net_config(net, dataset)\n",
        "  network = get_cell_based_tiny_net(config)\n",
        "  network.apply(init)\n",
        "\n",
        "  counter = 0\n",
        "\n",
        "  for name, module in network.named_modules():\n",
        "    if (isinstance(module, torch.nn.modules.activation.ReLU)):\n",
        "      counter +=1\n",
        "      module.register_forward_hook(counting_forward_hook)\n",
        "\n",
        "  network = network.to(device)\n",
        "\n",
        "  global Ktemp\n",
        "  Ktemp = torch.tensor(np.zeros((batch_size,batch_size))).to(device)\n",
        "  data_iterator = iter(train_loader)\n",
        "  x, target = next(data_iterator)\n",
        "  x, target = x.to(device), target.to(device)\n",
        "  network(x)\n",
        "  score = logdet(Ktemp.cpu().detach().numpy(), target)\n",
        "  \n",
        "\n",
        "  csv_dict = {'Dataset': dataset, 'Network': net, 'Metric': score}\n",
        "  result = pd.DataFrame([csv_dict])\n",
        "  strfile = f\"out_{dataset}_{run}.csv\"\n",
        "  result.to_csv(strfile, mode='a', index=False, header=False )\n",
        "\n",
        "  return score\n",
        "  "
      ],
      "metadata": {
        "id": "dQwpYH5Ppak2"
      },
      "execution_count": null,
      "outputs": []
    },
    {
      "cell_type": "code",
      "execution_count": null,
      "metadata": {
        "colab": {
          "base_uri": "https://localhost:8080/"
        },
        "outputId": "20456bb2-47b4-4d4c-e7c6-b339aa97eecb",
        "id": "wR1p-m65fV2o"
      },
      "outputs": [
        {
          "output_type": "stream",
          "name": "stdout",
          "text": [
            "Files already downloaded and verified\n"
          ]
        },
        {
          "output_type": "stream",
          "name": "stderr",
          "text": [
            "/usr/local/lib/python3.7/dist-packages/ipykernel_launcher.py:39: RuntimeWarning: divide by zero encountered in log\n"
          ]
        },
        {
          "output_type": "stream",
          "name": "stdout",
          "text": [
            "Files already downloaded and verified\n"
          ]
        }
      ],
      "source": [
        "datasetNames =['cifar10','cifar100','ImageNet16-120']\n",
        "\n",
        "batch_size = 128\n",
        "runs_rea = 10\n",
        "population_size = 50\n",
        "cicles = 200\n",
        "sample_size = 10\n",
        "\n",
        "device = torch.device(\"cuda:0\" if torch.cuda.is_available() else \"cpu\")\n",
        "Ktemp = torch.tensor(np.zeros((batch_size,batch_size))).to(device)\n",
        "counter = 0\n",
        "\n",
        "for dataset in datasetNames:\n",
        "\n",
        "  train_loader = get_data(dataset, batch_size)\n",
        "\n",
        "  for run in range(runs_rea):\n",
        "    \n",
        "    start = time.time()\n",
        "    relumax = 0\n",
        "    seed = np.random.randint(0,15000)\n",
        "    np.random.seed(run)\n",
        "    population =  np.random.randint(0,len(api),population_size)\n",
        "    history = population\n",
        "\n",
        "    metricspop = np.array([ get_score(dataset,net,api,train_loader,run,'random') for net in population ])\n",
        "\n",
        "    good_idx = (metricspop != -1)\n",
        "\n",
        "    population = population[good_idx]\n",
        "    metricspop = metricspop[good_idx]\n",
        "    history = history[good_idx]\n",
        "    \n",
        "    while(len(history) < cicles):\n",
        "\n",
        "      sample_idx = np.random.randint(0,len(population),sample_size)\n",
        "\n",
        "      sample = population[sample_idx]\n",
        "\n",
        "      metrics = metricspop[sample_idx]\n",
        "\n",
        "      parent = sample[np.argmax(metrics)]\n",
        "\n",
        "      child = generateChild(parent,api)\n",
        "      \n",
        "      if child not in history:\n",
        "        if child != -1:\n",
        "          scorechild = get_score(dataset,child,api,train_loader,run,'child')\n",
        "          if scorechild != -1:\n",
        "            population[:-1] = population[1:]\n",
        "            metricspop[:-1] = metricspop[1:]\n",
        "            population[-1] = child\n",
        "            metricspop[-1] = scorechild\n",
        "            history = np.append(history,child)\n",
        "\n",
        "    strfile = f\"/content/out_{dataset}_{run}.csv\"\n",
        "    csv_df = pd.read_csv(strfile,names = ['Dataset','Network','Metric'], header = None, index_col=['Dataset'])\n",
        "\n",
        "    tempo = time.time()-start\n",
        "\n",
        "    # taking the naswot metric model\n",
        "    best = csv_df.nlargest(1,'Metric')\n",
        "    acc = api.get_more_info(int(best['Network']),dataset,is_random=False,hp=200)['test-accuracy']\n",
        " \n",
        "    csv_dict = {'Dataset': dataset, 'Network': best['Network'].values[0], 'Metric': best['Metric'].values[0], 'Accuracy': acc, 'Time':tempo}\n",
        "    result = pd.DataFrame([csv_dict])\n",
        "    result.to_csv('rea_naswot.csv', mode='a', index=False, header=False )"
      ]
    },
    {
      "cell_type": "code",
      "source": [
        "df = pd.read_csv(\"/content/rea_naswot.csv\",names = ['Dataset','Network','Metric','syn','Accuracy','Time','mode'], header = None, index_col=['Dataset','Network'])\n",
        "\n",
        "metric = df.groupby(by = 'Dataset')['Metric'].describe()[['mean','std']]\n",
        "accuracy = df.groupby(by = 'Dataset')['Accuracy'].describe()[['mean','std']]\n",
        "time = df.groupby(by = 'Dataset')['Time'].describe()[['mean','std']]\n",
        "\n",
        "data = pd.concat([metric,accuracy,time],axis=1)\n",
        "data.to_csv('stats_rea_naswot.csv')"
      ],
      "metadata": {
        "id": "BFjAAUF2uFGS"
      },
      "execution_count": null,
      "outputs": []
    },
    {
      "cell_type": "markdown",
      "source": [
        "#Rea different ways to generate child\n",
        "\n",
        "Results of this test (gentest_dataset.csv) are already available on the Files section (downloaded from github)\n",
        "\n",
        "Please remember to delete this file if you want to replilcate this test"
      ],
      "metadata": {
        "id": "nnIx4tm9PpLy"
      }
    },
    {
      "cell_type": "code",
      "source": [
        "# same code as before but now we consider also the mode of generating childs\n",
        "def get_score(dataset,net,api,train_loader,run,mode):\n",
        "\n",
        "  arch_tuple = api.str2lists(api.get_net_config(int(net), 'cifar10')['arch_str'])\n",
        "  arch= []\n",
        "  for i in range(3):\n",
        "    for j in range(i+1):\n",
        "      arch.append(arch_tuple[i][j])\n",
        "  \n",
        "  if control(arch) == -1:\n",
        "    return -1\n",
        "  \n",
        "  config = api.get_net_config(net, dataset)\n",
        "  network = get_cell_based_tiny_net(config)\n",
        "  network.apply(init)\n",
        "\n",
        "  syn = find_measures(network,train_loader,('random',1,getnumclass(dataset)),device,measure_names=['synflow'])['synflow']\n",
        "\n",
        "  csv_dict = {'Dataset': dataset, 'Network': net, 'synflow' : np.log(syn), 'mode': mode}\n",
        "  result = pd.DataFrame([csv_dict])\n",
        "  strfile = f\"/content/gentest_{dataset}.csv\"\n",
        "  result.to_csv(strfile, mode='a', index=False, header=False )\n",
        "\n",
        "  return np.log(syn)\n",
        "  "
      ],
      "metadata": {
        "id": "uozLN7c6T7x_"
      },
      "execution_count": null,
      "outputs": []
    },
    {
      "cell_type": "code",
      "execution_count": null,
      "metadata": {
        "colab": {
          "base_uri": "https://localhost:8080/"
        },
        "id": "uMQj50WUeOne",
        "outputId": "00f5cec0-c63e-48ae-fb71-ff3c1809fc3b"
      },
      "outputs": [
        {
          "output_type": "stream",
          "name": "stderr",
          "text": [
            "/usr/local/lib/python3.7/dist-packages/ipykernel_launcher.py:18: RuntimeWarning: divide by zero encountered in log\n",
            "/usr/local/lib/python3.7/dist-packages/ipykernel_launcher.py:23: RuntimeWarning: divide by zero encountered in log\n"
          ]
        }
      ],
      "source": [
        "datasetNames = ['cifar10','cifar100','ImageNet16-120']\n",
        "\n",
        "batch_size = 128\n",
        "runs_rea = 1\n",
        "population_size = 50\n",
        "cicles = 300\n",
        "sample_size = 10\n",
        "\n",
        "device = torch.device(\"cuda:0\" if torch.cuda.is_available() else \"cpu\")\n",
        "Ktemp = torch.tensor(np.zeros((batch_size,batch_size))).to(device)\n",
        "counter = 0\n",
        "\n",
        "for dataset in datasetNames:\n",
        "\n",
        "  train_loader = get_data(dataset, batch_size)\n",
        "\n",
        "  for run in range(runs_rea):\n",
        "    \n",
        "    start = time.time()\n",
        "    relumax = 0\n",
        "    population =  np.random.randint(0,len(api),population_size)\n",
        "    history = population\n",
        "\n",
        "    metricspop = np.array([ get_score(dataset,net,api,train_loader,run,'random') for net in population ])\n",
        "\n",
        "    good_idx = (metricspop != -1)\n",
        "\n",
        "    population = population[good_idx]\n",
        "    metricspop = metricspop[good_idx]\n",
        "    history = history[good_idx]\n",
        "    \n",
        "    i= 0\n",
        "    while(len(history) < cicles):\n",
        "\n",
        "      sample_idx = np.random.randint(0,len(population),sample_size)\n",
        "\n",
        "      sample = population[sample_idx]\n",
        "\n",
        "      metrics = metricspop[sample_idx]\n",
        "\n",
        "      mode = ''\n",
        "      \n",
        "      # at each iteration we change the way to generate a new model\n",
        "      if i % 4 <= 1:\n",
        "        parent = sample[np.argmax(metrics)]\n",
        "\n",
        "        if i % 4 == 0:\n",
        "          child = generateChild(parent,api)\n",
        "          mode = 'mutation'\n",
        "        if i % 4 == 1:\n",
        "          child = generateChildByInversion(parent,api)\n",
        "          mode = 'inversion'\n",
        "      \n",
        "      if i % 4 == 2:\n",
        "        child = generateChildbyVote(sample,metrics,api)\n",
        "        mode = 'majority vote'\n",
        "      \n",
        "      if i % 4 == 3:\n",
        "        mask = np.argsort(metrics)[[0,-1]]\n",
        "        parents = sample[mask]\n",
        "        child = generateChildByCrossover(parents,api)\n",
        "        mode = 'crossover'\n",
        "        \n",
        "      if child not in history:\n",
        "        if child != -1:\n",
        "          scorechild = get_score(dataset,child,api,train_loader,run,mode)\n",
        "          if scorechild != -1:\n",
        "            population[:-1] = population[1:]\n",
        "            metricspop[:-1] = metricspop[1:]\n",
        "            population[-1] = child\n",
        "            metricspop[-1] = scorechild\n",
        "            history = np.append(history,child)\n",
        "      i = i+1\n"
      ]
    },
    {
      "cell_type": "code",
      "source": [
        "dataset = 'cifar100'\n",
        "strfile = f\"/content/gentest_{dataset}.csv\"\n",
        "csv_df = pd.read_csv(strfile,names = ['Dataset','Network','syn','mode'], header = None, index_col=['Dataset'])\n",
        "csv_df['accuracy'] = [ api.get_more_info(int(i),'ImageNet16-120',hp=200,is_random=False)['test-accuracy'] for i in csv_df['Network'].values]"
      ],
      "metadata": {
        "id": "SBiR-VbiWkc2"
      },
      "execution_count": null,
      "outputs": []
    },
    {
      "cell_type": "code",
      "execution_count": null,
      "metadata": {
        "colab": {
          "base_uri": "https://localhost:8080/",
          "height": 296
        },
        "id": "_sD6lMI-37J0",
        "outputId": "91c6432e-4a8a-4121-9151-bb17a408f0dc"
      },
      "outputs": [
        {
          "output_type": "stream",
          "name": "stderr",
          "text": [
            "No handles with labels found to put in legend.\n"
          ]
        },
        {
          "output_type": "display_data",
          "data": {
            "text/plain": [
              "<Figure size 432x288 with 1 Axes>"
            ],
            "image/png": "[encoded data removed]"
          },
          "metadata": {
            "needs_background": "light"
          }
        }
      ],
      "source": [
        "# we considered onlly the last generated models, because at the start the algorithm starts exploring \n",
        "# with a population with random models, in the last ones all the elements of the population\n",
        "# were generated in order to increase the metric\n",
        "# so we thought that could be more rapresentative to plot this situation to better understand the\n",
        "# difference between the generation modalities\n",
        "\n",
        "seaborn.boxplot(data=csv_df.iloc[220:300],x=\"syn\", y =\"mode\")\n",
        "plt.grid()\n",
        "pyplot.legend(bbox_to_anchor=(1.05,1),loc = 2, borderaxespad=0.)\n",
        "pyplot.xlabel('Synflow')\n",
        "pyplot.ylabel('Generation modality')\n",
        "pyplot.savefig('gen.pdf',dpi=300,bbox_inches='tight')"
      ]
    },
    {
      "cell_type": "markdown",
      "source": [
        "#Random search with synflow\n",
        "\n",
        "Results of this test (random_syn.csv) are already available on the Files section (downloaded from github)\n",
        "\n",
        "Please remember to delete this file if you want to replilcate this test"
      ],
      "metadata": {
        "id": "NZFKy71E2DPr"
      }
    },
    {
      "cell_type": "code",
      "source": [
        "# same code as before, calculating synflow\n",
        "def get_score(dataset,net,api,train_loader,run,mode):\n",
        "\n",
        "  arch_tuple = api.str2lists(api.get_net_config(int(net), 'cifar10')['arch_str'])\n",
        "  arch= []\n",
        "  for i in range(3):\n",
        "    for j in range(i+1):\n",
        "      arch.append(arch_tuple[i][j])\n",
        "  \n",
        "  if control(arch) == -1:\n",
        "    return -1\n",
        "  \n",
        "  config = api.get_net_config(net, dataset)\n",
        "  network = get_cell_based_tiny_net(config)\n",
        "  network.apply(init)\n",
        "\n",
        "  syn = find_measures(network,train_loader,('random',1,getnumclass(dataset)),device,measure_names=['synflow'])['synflow']\n",
        "\n",
        "  return np.log(syn)\n",
        "  "
      ],
      "metadata": {
        "id": "fHI4-NxC2ZnA"
      },
      "execution_count": null,
      "outputs": []
    },
    {
      "cell_type": "code",
      "source": [
        "import random\n",
        "import pandas as pd\n",
        "import numpy as np\n",
        "import os\n",
        "from scipy import stats\n",
        "import torch\n",
        "import time\n",
        "import operator\n",
        "import math\n",
        "\n",
        "device = torch.device(\"cuda:0\" if torch.cuda.is_available() else \"cpu\")\n",
        "datasetNames = ['cifar10','cifar100','ImageNet16-120']\n",
        "\n",
        "runs = 10\n",
        "sample_size = 200\n",
        "batch_size = 128\n",
        "\n",
        "for dataset in datasetNames:  \n",
        "  for run in range(runs):\n",
        "\n",
        "    train_loader = get_data(dataset, batch_size)\n",
        "    scores = []\n",
        "    nets = np.random.randint(0,len(api),size=sample_size)\n",
        "    counter = 0\n",
        "\n",
        "    start = time.time()\n",
        "\n",
        "    for i in nets:\n",
        "      scores.append(get_score(dataset,int(i),api,train_loader,run,'child'))\n",
        "\n",
        "    ind_best = np.argmax(scores)\n",
        "    acc = api.get_more_info(int(nets[ind_best]),dataset,is_random=False,hp=200)['test-accuracy']\n",
        "    tempo = time.time()-start\n",
        "    csv_dict = {'Dataset': dataset, 'Network': nets[ind_best], 'Metric': scores[ind_best], 'Accuracy': acc, 'Time': tempo}\n",
        "    result = pd.DataFrame([csv_dict])\n",
        "    result.to_csv('random_syn.csv', mode='a', index=False, header=False )\n"
      ],
      "metadata": {
        "colab": {
          "base_uri": "https://localhost:8080/"
        },
        "id": "yLN4CdRz2C6l",
        "outputId": "fae38606-27d8-4a83-9f99-f0e56acdcc36"
      },
      "execution_count": null,
      "outputs": [
        {
          "output_type": "stream",
          "name": "stderr",
          "text": [
            "/usr/local/lib/python3.7/dist-packages/ipykernel_launcher.py:18: RuntimeWarning: divide by zero encountered in log\n",
            "/usr/local/lib/python3.7/dist-packages/ipykernel_launcher.py:23: RuntimeWarning: divide by zero encountered in log\n"
          ]
        }
      ]
    }
  ],
  "metadata": {
    "accelerator": "GPU",
    "colab": {
      "collapsed_sections": [
        "8I7JJ_JugPzm",
        "nnIx4tm9PpLy",
        "NZFKy71E2DPr"
      ],
      "provenance": []
    },
    "kernelspec": {
      "display_name": "Python 3",
      "name": "python3"
    },
    "language_info": {
      "name": "python"
    },
    "widgets": {
      "application/vnd.jupyter.widget-state+json": {
        "ab0608e90c114b7d834ed1e01441dab8": {
          "model_module": "@jupyter-widgets/controls",
          "model_name": "HBoxModel",
          "model_module_version": "1.5.0",
          "state": {
            "_dom_classes": [],
            "_model_module": "@jupyter-widgets/controls",
            "_model_module_version": "1.5.0",
            "_model_name": "HBoxModel",
            "_view_count": null,
            "_view_module": "@jupyter-widgets/controls",
            "_view_module_version": "1.5.0",
            "_view_name": "HBoxView",
            "box_style": "",
            "children": [
              "IPY_MODEL_1783a585cecf4455b11d44ff5bd2c237",
              "IPY_MODEL_90d4269369454fb1976cb7697f7a780d",
              "IPY_MODEL_e8a88be954424469a3419061fd4320da"
            ],
            "layout": "IPY_MODEL_24b565cf938b4834857ef4db9b59f436"
          }
        },
        "1783a585cecf4455b11d44ff5bd2c237": {
          "model_module": "@jupyter-widgets/controls",
          "model_name": "HTMLModel",
          "model_module_version": "1.5.0",
          "state": {
            "_dom_classes": [],
            "_model_module": "@jupyter-widgets/controls",
            "_model_module_version": "1.5.0",
            "_model_name": "HTMLModel",
            "_view_count": null,
            "_view_module": "@jupyter-widgets/controls",
            "_view_module_version": "1.5.0",
            "_view_name": "HTMLView",
            "description": "",
            "description_tooltip": null,
            "layout": "IPY_MODEL_5d9d23698efe42f8bc81244780f58c05",
            "placeholder": "​",
            "style": "IPY_MODEL_22116334f3c44e6094495d01edf94579",
            "value": ""
          }
        },
        "90d4269369454fb1976cb7697f7a780d": {
          "model_module": "@jupyter-widgets/controls",
          "model_name": "FloatProgressModel",
          "model_module_version": "1.5.0",
          "state": {
            "_dom_classes": [],
            "_model_module": "@jupyter-widgets/controls",
            "_model_module_version": "1.5.0",
            "_model_name": "FloatProgressModel",
            "_view_count": null,
            "_view_module": "@jupyter-widgets/controls",
            "_view_module_version": "1.5.0",
            "_view_name": "ProgressView",
            "bar_style": "success",
            "description": "",
            "description_tooltip": null,
            "layout": "IPY_MODEL_ec2926fb43f442e39b21656965f0cfb9",
            "max": 170498071,
            "min": 0,
            "orientation": "horizontal",
            "style": "IPY_MODEL_a02209ed06964f7ba2c6a7020cf12679",
            "value": 170498071
          }
        },
        "e8a88be954424469a3419061fd4320da": {
          "model_module": "@jupyter-widgets/controls",
          "model_name": "HTMLModel",
          "model_module_version": "1.5.0",
          "state": {
            "_dom_classes": [],
            "_model_module": "@jupyter-widgets/controls",
            "_model_module_version": "1.5.0",
            "_model_name": "HTMLModel",
            "_view_count": null,
            "_view_module": "@jupyter-widgets/controls",
            "_view_module_version": "1.5.0",
            "_view_name": "HTMLView",
            "description": "",
            "description_tooltip": null,
            "layout": "IPY_MODEL_d258aa9b998f4a80bbf3e0c6c1d07814",
            "placeholder": "​",
            "style": "IPY_MODEL_378f628b48a44be4a668f888cda1c833",
            "value": " 170499072/? [00:04&lt;00:00, 47333201.13it/s]"
          }
        },
        "24b565cf938b4834857ef4db9b59f436": {
          "model_module": "@jupyter-widgets/base",
          "model_name": "LayoutModel",
          "model_module_version": "1.2.0",
          "state": {
            "_model_module": "@jupyter-widgets/base",
            "_model_module_version": "1.2.0",
            "_model_name": "LayoutModel",
            "_view_count": null,
            "_view_module": "@jupyter-widgets/base",
            "_view_module_version": "1.2.0",
            "_view_name": "LayoutView",
            "align_content": null,
            "align_items": null,
            "align_self": null,
            "border": null,
            "bottom": null,
            "display": null,
            "flex": null,
            "flex_flow": null,
            "grid_area": null,
            "grid_auto_columns": null,
            "grid_auto_flow": null,
            "grid_auto_rows": null,
            "grid_column": null,
            "grid_gap": null,
            "grid_row": null,
            "grid_template_areas": null,
            "grid_template_columns": null,
            "grid_template_rows": null,
            "height": null,
            "justify_content": null,
            "justify_items": null,
            "left": null,
            "margin": null,
            "max_height": null,
            "max_width": null,
            "min_height": null,
            "min_width": null,
            "object_fit": null,
            "object_position": null,
            "order": null,
            "overflow": null,
            "overflow_x": null,
            "overflow_y": null,
            "padding": null,
            "right": null,
            "top": null,
            "visibility": null,
            "width": null
          }
        },
        "5d9d23698efe42f8bc81244780f58c05": {
          "model_module": "@jupyter-widgets/base",
          "model_name": "LayoutModel",
          "model_module_version": "1.2.0",
          "state": {
            "_model_module": "@jupyter-widgets/base",
            "_model_module_version": "1.2.0",
            "_model_name": "LayoutModel",
            "_view_count": null,
            "_view_module": "@jupyter-widgets/base",
            "_view_module_version": "1.2.0",
            "_view_name": "LayoutView",
            "align_content": null,
            "align_items": null,
            "align_self": null,
            "border": null,
            "bottom": null,
            "display": null,
            "flex": null,
            "flex_flow": null,
            "grid_area": null,
            "grid_auto_columns": null,
            "grid_auto_flow": null,
            "grid_auto_rows": null,
            "grid_column": null,
            "grid_gap": null,
            "grid_row": null,
            "grid_template_areas": null,
            "grid_template_columns": null,
            "grid_template_rows": null,
            "height": null,
            "justify_content": null,
            "justify_items": null,
            "left": null,
            "margin": null,
            "max_height": null,
            "max_width": null,
            "min_height": null,
            "min_width": null,
            "object_fit": null,
            "object_position": null,
            "order": null,
            "overflow": null,
            "overflow_x": null,
            "overflow_y": null,
            "padding": null,
            "right": null,
            "top": null,
            "visibility": null,
            "width": null
          }
        },
        "22116334f3c44e6094495d01edf94579": {
          "model_module": "@jupyter-widgets/controls",
          "model_name": "DescriptionStyleModel",
          "model_module_version": "1.5.0",
          "state": {
            "_model_module": "@jupyter-widgets/controls",
            "_model_module_version": "1.5.0",
            "_model_name": "DescriptionStyleModel",
            "_view_count": null,
            "_view_module": "@jupyter-widgets/base",
            "_view_module_version": "1.2.0",
            "_view_name": "StyleView",
            "description_width": ""
          }
        },
        "ec2926fb43f442e39b21656965f0cfb9": {
          "model_module": "@jupyter-widgets/base",
          "model_name": "LayoutModel",
          "model_module_version": "1.2.0",
          "state": {
            "_model_module": "@jupyter-widgets/base",
            "_model_module_version": "1.2.0",
            "_model_name": "LayoutModel",
            "_view_count": null,
            "_view_module": "@jupyter-widgets/base",
            "_view_module_version": "1.2.0",
            "_view_name": "LayoutView",
            "align_content": null,
            "align_items": null,
            "align_self": null,
            "border": null,
            "bottom": null,
            "display": null,
            "flex": null,
            "flex_flow": null,
            "grid_area": null,
            "grid_auto_columns": null,
            "grid_auto_flow": null,
            "grid_auto_rows": null,
            "grid_column": null,
            "grid_gap": null,
            "grid_row": null,
            "grid_template_areas": null,
            "grid_template_columns": null,
            "grid_template_rows": null,
            "height": null,
            "justify_content": null,
            "justify_items": null,
            "left": null,
            "margin": null,
            "max_height": null,
            "max_width": null,
            "min_height": null,
            "min_width": null,
            "object_fit": null,
            "object_position": null,
            "order": null,
            "overflow": null,
            "overflow_x": null,
            "overflow_y": null,
            "padding": null,
            "right": null,
            "top": null,
            "visibility": null,
            "width": null
          }
        },
        "a02209ed06964f7ba2c6a7020cf12679": {
          "model_module": "@jupyter-widgets/controls",
          "model_name": "ProgressStyleModel",
          "model_module_version": "1.5.0",
          "state": {
            "_model_module": "@jupyter-widgets/controls",
            "_model_module_version": "1.5.0",
            "_model_name": "ProgressStyleModel",
            "_view_count": null,
            "_view_module": "@jupyter-widgets/base",
            "_view_module_version": "1.2.0",
            "_view_name": "StyleView",
            "bar_color": null,
            "description_width": ""
          }
        },
        "d258aa9b998f4a80bbf3e0c6c1d07814": {
          "model_module": "@jupyter-widgets/base",
          "model_name": "LayoutModel",
          "model_module_version": "1.2.0",
          "state": {
            "_model_module": "@jupyter-widgets/base",
            "_model_module_version": "1.2.0",
            "_model_name": "LayoutModel",
            "_view_count": null,
            "_view_module": "@jupyter-widgets/base",
            "_view_module_version": "1.2.0",
            "_view_name": "LayoutView",
            "align_content": null,
            "align_items": null,
            "align_self": null,
            "border": null,
            "bottom": null,
            "display": null,
            "flex": null,
            "flex_flow": null,
            "grid_area": null,
            "grid_auto_columns": null,
            "grid_auto_flow": null,
            "grid_auto_rows": null,
            "grid_column": null,
            "grid_gap": null,
            "grid_row": null,
            "grid_template_areas": null,
            "grid_template_columns": null,
            "grid_template_rows": null,
            "height": null,
            "justify_content": null,
            "justify_items": null,
            "left": null,
            "margin": null,
            "max_height": null,
            "max_width": null,
            "min_height": null,
            "min_width": null,
            "object_fit": null,
            "object_position": null,
            "order": null,
            "overflow": null,
            "overflow_x": null,
            "overflow_y": null,
            "padding": null,
            "right": null,
            "top": null,
            "visibility": null,
            "width": null
          }
        },
        "378f628b48a44be4a668f888cda1c833": {
          "model_module": "@jupyter-widgets/controls",
          "model_name": "DescriptionStyleModel",
          "model_module_version": "1.5.0",
          "state": {
            "_model_module": "@jupyter-widgets/controls",
            "_model_module_version": "1.5.0",
            "_model_name": "DescriptionStyleModel",
            "_view_count": null,
            "_view_module": "@jupyter-widgets/base",
            "_view_module_version": "1.2.0",
            "_view_name": "StyleView",
            "description_width": ""
          }
        },
        "4ad75296290849f789895f0ac064cc9a": {
          "model_module": "@jupyter-widgets/controls",
          "model_name": "HBoxModel",
          "model_module_version": "1.5.0",
          "state": {
            "_dom_classes": [],
            "_model_module": "@jupyter-widgets/controls",
            "_model_module_version": "1.5.0",
            "_model_name": "HBoxModel",
            "_view_count": null,
            "_view_module": "@jupyter-widgets/controls",
            "_view_module_version": "1.5.0",
            "_view_name": "HBoxView",
            "box_style": "",
            "children": [
              "IPY_MODEL_739e45d8b2dc40c7aaaed95a6fe562b4",
              "IPY_MODEL_175968373acf43969bcd6e3aa7ab3844",
              "IPY_MODEL_7dbe9832baad417cab30fc76cdac510d"
            ],
            "layout": "IPY_MODEL_16a4dba4fdf44a30a757b67071174602"
          }
        },
        "739e45d8b2dc40c7aaaed95a6fe562b4": {
          "model_module": "@jupyter-widgets/controls",
          "model_name": "HTMLModel",
          "model_module_version": "1.5.0",
          "state": {
            "_dom_classes": [],
            "_model_module": "@jupyter-widgets/controls",
            "_model_module_version": "1.5.0",
            "_model_name": "HTMLModel",
            "_view_count": null,
            "_view_module": "@jupyter-widgets/controls",
            "_view_module_version": "1.5.0",
            "_view_name": "HTMLView",
            "description": "",
            "description_tooltip": null,
            "layout": "IPY_MODEL_eec317089ef64aa2a7c3bbbee731f4d3",
            "placeholder": "​",
            "style": "IPY_MODEL_dc63820131dc4df9a7c3b03b6e257df5",
            "value": ""
          }
        },
        "175968373acf43969bcd6e3aa7ab3844": {
          "model_module": "@jupyter-widgets/controls",
          "model_name": "FloatProgressModel",
          "model_module_version": "1.5.0",
          "state": {
            "_dom_classes": [],
            "_model_module": "@jupyter-widgets/controls",
            "_model_module_version": "1.5.0",
            "_model_name": "FloatProgressModel",
            "_view_count": null,
            "_view_module": "@jupyter-widgets/controls",
            "_view_module_version": "1.5.0",
            "_view_name": "ProgressView",
            "bar_style": "success",
            "description": "",
            "description_tooltip": null,
            "layout": "IPY_MODEL_7aae7460988e46efae4118ae8441f246",
            "max": 169001437,
            "min": 0,
            "orientation": "horizontal",
            "style": "IPY_MODEL_ed8dba39fdf8403ab268f2fafdcc8a1f",
            "value": 169001437
          }
        },
        "7dbe9832baad417cab30fc76cdac510d": {
          "model_module": "@jupyter-widgets/controls",
          "model_name": "HTMLModel",
          "model_module_version": "1.5.0",
          "state": {
            "_dom_classes": [],
            "_model_module": "@jupyter-widgets/controls",
            "_model_module_version": "1.5.0",
            "_model_name": "HTMLModel",
            "_view_count": null,
            "_view_module": "@jupyter-widgets/controls",
            "_view_module_version": "1.5.0",
            "_view_name": "HTMLView",
            "description": "",
            "description_tooltip": null,
            "layout": "IPY_MODEL_7ed8b6dab05b4e028b7f3c5cdff3b88b",
            "placeholder": "​",
            "style": "IPY_MODEL_6ecb995c405e43579a0e7acafb005480",
            "value": " 169001984/? [00:03&lt;00:00, 54505654.01it/s]"
          }
        },
        "16a4dba4fdf44a30a757b67071174602": {
          "model_module": "@jupyter-widgets/base",
          "model_name": "LayoutModel",
          "model_module_version": "1.2.0",
          "state": {
            "_model_module": "@jupyter-widgets/base",
            "_model_module_version": "1.2.0",
            "_model_name": "LayoutModel",
            "_view_count": null,
            "_view_module": "@jupyter-widgets/base",
            "_view_module_version": "1.2.0",
            "_view_name": "LayoutView",
            "align_content": null,
            "align_items": null,
            "align_self": null,
            "border": null,
            "bottom": null,
            "display": null,
            "flex": null,
            "flex_flow": null,
            "grid_area": null,
            "grid_auto_columns": null,
            "grid_auto_flow": null,
            "grid_auto_rows": null,
            "grid_column": null,
            "grid_gap": null,
            "grid_row": null,
            "grid_template_areas": null,
            "grid_template_columns": null,
            "grid_template_rows": null,
            "height": null,
            "justify_content": null,
            "justify_items": null,
            "left": null,
            "margin": null,
            "max_height": null,
            "max_width": null,
            "min_height": null,
            "min_width": null,
            "object_fit": null,
            "object_position": null,
            "order": null,
            "overflow": null,
            "overflow_x": null,
            "overflow_y": null,
            "padding": null,
            "right": null,
            "top": null,
            "visibility": null,
            "width": null
          }
        },
        "eec317089ef64aa2a7c3bbbee731f4d3": {
          "model_module": "@jupyter-widgets/base",
          "model_name": "LayoutModel",
          "model_module_version": "1.2.0",
          "state": {
            "_model_module": "@jupyter-widgets/base",
            "_model_module_version": "1.2.0",
            "_model_name": "LayoutModel",
            "_view_count": null,
            "_view_module": "@jupyter-widgets/base",
            "_view_module_version": "1.2.0",
            "_view_name": "LayoutView",
            "align_content": null,
            "align_items": null,
            "align_self": null,
            "border": null,
            "bottom": null,
            "display": null,
            "flex": null,
            "flex_flow": null,
            "grid_area": null,
            "grid_auto_columns": null,
            "grid_auto_flow": null,
            "grid_auto_rows": null,
            "grid_column": null,
            "grid_gap": null,
            "grid_row": null,
            "grid_template_areas": null,
            "grid_template_columns": null,
            "grid_template_rows": null,
            "height": null,
            "justify_content": null,
            "justify_items": null,
            "left": null,
            "margin": null,
            "max_height": null,
            "max_width": null,
            "min_height": null,
            "min_width": null,
            "object_fit": null,
            "object_position": null,
            "order": null,
            "overflow": null,
            "overflow_x": null,
            "overflow_y": null,
            "padding": null,
            "right": null,
            "top": null,
            "visibility": null,
            "width": null
          }
        },
        "dc63820131dc4df9a7c3b03b6e257df5": {
          "model_module": "@jupyter-widgets/controls",
          "model_name": "DescriptionStyleModel",
          "model_module_version": "1.5.0",
          "state": {
            "_model_module": "@jupyter-widgets/controls",
            "_model_module_version": "1.5.0",
            "_model_name": "DescriptionStyleModel",
            "_view_count": null,
            "_view_module": "@jupyter-widgets/base",
            "_view_module_version": "1.2.0",
            "_view_name": "StyleView",
            "description_width": ""
          }
        },
        "7aae7460988e46efae4118ae8441f246": {
          "model_module": "@jupyter-widgets/base",
          "model_name": "LayoutModel",
          "model_module_version": "1.2.0",
          "state": {
            "_model_module": "@jupyter-widgets/base",
            "_model_module_version": "1.2.0",
            "_model_name": "LayoutModel",
            "_view_count": null,
            "_view_module": "@jupyter-widgets/base",
            "_view_module_version": "1.2.0",
            "_view_name": "LayoutView",
            "align_content": null,
            "align_items": null,
            "align_self": null,
            "border": null,
            "bottom": null,
            "display": null,
            "flex": null,
            "flex_flow": null,
            "grid_area": null,
            "grid_auto_columns": null,
            "grid_auto_flow": null,
            "grid_auto_rows": null,
            "grid_column": null,
            "grid_gap": null,
            "grid_row": null,
            "grid_template_areas": null,
            "grid_template_columns": null,
            "grid_template_rows": null,
            "height": null,
            "justify_content": null,
            "justify_items": null,
            "left": null,
            "margin": null,
            "max_height": null,
            "max_width": null,
            "min_height": null,
            "min_width": null,
            "object_fit": null,
            "object_position": null,
            "order": null,
            "overflow": null,
            "overflow_x": null,
            "overflow_y": null,
            "padding": null,
            "right": null,
            "top": null,
            "visibility": null,
            "width": null
          }
        },
        "ed8dba39fdf8403ab268f2fafdcc8a1f": {
          "model_module": "@jupyter-widgets/controls",
          "model_name": "ProgressStyleModel",
          "model_module_version": "1.5.0",
          "state": {
            "_model_module": "@jupyter-widgets/controls",
            "_model_module_version": "1.5.0",
            "_model_name": "ProgressStyleModel",
            "_view_count": null,
            "_view_module": "@jupyter-widgets/base",
            "_view_module_version": "1.2.0",
            "_view_name": "StyleView",
            "bar_color": null,
            "description_width": ""
          }
        },
        "7ed8b6dab05b4e028b7f3c5cdff3b88b": {
          "model_module": "@jupyter-widgets/base",
          "model_name": "LayoutModel",
          "model_module_version": "1.2.0",
          "state": {
            "_model_module": "@jupyter-widgets/base",
            "_model_module_version": "1.2.0",
            "_model_name": "LayoutModel",
            "_view_count": null,
            "_view_module": "@jupyter-widgets/base",
            "_view_module_version": "1.2.0",
            "_view_name": "LayoutView",
            "align_content": null,
            "align_items": null,
            "align_self": null,
            "border": null,
            "bottom": null,
            "display": null,
            "flex": null,
            "flex_flow": null,
            "grid_area": null,
            "grid_auto_columns": null,
            "grid_auto_flow": null,
            "grid_auto_rows": null,
            "grid_column": null,
            "grid_gap": null,
            "grid_row": null,
            "grid_template_areas": null,
            "grid_template_columns": null,
            "grid_template_rows": null,
            "height": null,
            "justify_content": null,
            "justify_items": null,
            "left": null,
            "margin": null,
            "max_height": null,
            "max_width": null,
            "min_height": null,
            "min_width": null,
            "object_fit": null,
            "object_position": null,
            "order": null,
            "overflow": null,
            "overflow_x": null,
            "overflow_y": null,
            "padding": null,
            "right": null,
            "top": null,
            "visibility": null,
            "width": null
          }
        },
        "6ecb995c405e43579a0e7acafb005480": {
          "model_module": "@jupyter-widgets/controls",
          "model_name": "DescriptionStyleModel",
          "model_module_version": "1.5.0",
          "state": {
            "_model_module": "@jupyter-widgets/controls",
            "_model_module_version": "1.5.0",
            "_model_name": "DescriptionStyleModel",
            "_view_count": null,
            "_view_module": "@jupyter-widgets/base",
            "_view_module_version": "1.2.0",
            "_view_name": "StyleView",
            "description_width": ""
          }
        }
      }
    }
  },
  "nbformat": 4,
  "nbformat_minor": 0
}