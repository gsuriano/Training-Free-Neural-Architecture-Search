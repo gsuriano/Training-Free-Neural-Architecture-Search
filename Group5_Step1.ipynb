{
  "cells": [
    {
      "cell_type": "markdown",
      "source": [
        "# Imports, api, datasets and functions to use Naswot metric"
      ],
      "metadata": {
        "id": "ALolaoragulP"
      }
    },
    {
      "cell_type": "code",
      "execution_count": null,
      "metadata": {
        "id": "TUhE_FFL1gC0",
        "colab": {
          "base_uri": "https://localhost:8080/"
        },
        "outputId": "f9a230ce-ab0a-4c16-9875-87569bf37036"
      },
      "outputs": [
        {
          "output_type": "stream",
          "name": "stdout",
          "text": [
            "Looking in indexes: https://pypi.org/simple, https://us-python.pkg.dev/colab-wheels/public/simple/\n",
            "Requirement already satisfied: nats_bench in /usr/local/lib/python3.7/dist-packages (1.7)\n",
            "Requirement already satisfied: numpy>=1.16.5 in /usr/local/lib/python3.7/dist-packages (from nats_bench) (1.19.5)\n",
            "--2022-06-10 08:41:54--  https://www.dropbox.com/sh/ceeo70u1buow681/AADxyCvBAnE6mMjp7JOoo0LVa/NATS-tss-v1_0-3ffb9-simple.tar\n",
            "Resolving www.dropbox.com (www.dropbox.com)... 162.125.81.18, 2620:100:6031:18::a27d:5112\n",
            "Connecting to www.dropbox.com (www.dropbox.com)|162.125.81.18|:443... connected.\n",
            "HTTP request sent, awaiting response... 301 Moved Permanently\n",
            "Location: /sh/raw/ceeo70u1buow681/AADxyCvBAnE6mMjp7JOoo0LVa/NATS-tss-v1_0-3ffb9-simple.tar [following]\n",
            "--2022-06-10 08:41:54--  https://www.dropbox.com/sh/raw/ceeo70u1buow681/AADxyCvBAnE6mMjp7JOoo0LVa/NATS-tss-v1_0-3ffb9-simple.tar\n",
            "Reusing existing connection to www.dropbox.com:443.\n",
            "HTTP request sent, awaiting response... 302 Found\n",
            "Location: https://uc3ac634d36213bd06ae319e3115.dl.dropboxusercontent.com/cd/0/inline/Bm4chHqunteKcG-93HwuLK9C5kYrqB-gkpicp6qksy_Hw4peSdTIWejQEVMP0O1K4otiljJiGomIyKrwLVr1GHyG9va9al1DQuuj9TLRCwfGgAlahntOzvFATuDRQM5MlEghrjLg6VAxMLEFpAnC4XBAqvPvR1W8tzcUw9Pr8w4cGA/file# [following]\n",
            "--2022-06-10 08:41:55--  https://uc3ac634d36213bd06ae319e3115.dl.dropboxusercontent.com/cd/0/inline/Bm4chHqunteKcG-93HwuLK9C5kYrqB-gkpicp6qksy_Hw4peSdTIWejQEVMP0O1K4otiljJiGomIyKrwLVr1GHyG9va9al1DQuuj9TLRCwfGgAlahntOzvFATuDRQM5MlEghrjLg6VAxMLEFpAnC4XBAqvPvR1W8tzcUw9Pr8w4cGA/file\n",
            "Resolving uc3ac634d36213bd06ae319e3115.dl.dropboxusercontent.com (uc3ac634d36213bd06ae319e3115.dl.dropboxusercontent.com)... 162.125.81.15, 2620:100:6020:15::a27d:400f\n",
            "Connecting to uc3ac634d36213bd06ae319e3115.dl.dropboxusercontent.com (uc3ac634d36213bd06ae319e3115.dl.dropboxusercontent.com)|162.125.81.15|:443... connected.\n",
            "HTTP request sent, awaiting response... 302 Found\n",
            "Location: /cd/0/inline2/Bm40PBy57zC2JPdBFZgvFOE9IfQoQVujt3RVVKzDB5Ygei90ShUmO6FzOzJRqqiVvxbCYQ6oRFiSLmQ-2FxoF5pVcnDTMTBmrRmyMYKMOYeVytTKcxK6vOr8PhesdH5afrVq0-_nv1ek9f2GdbODfAmzwk_Ap1TIyHTrHr0NOjAwi3vkqYaT-ji0y-M5sWkku-yj6AA-mkuYJbVtKYKaYn7vaLkUh2cP8onhPopJZVfYPFWMmBUYoJmJf71UGGWLciieZaksha7R_HlB0ZEmCdkjJq4nq9S-JHM4S2g1kTbZnNkZjHBbqi27lPAAMqCgjMsqrcEhWseCwW66f_wycj1ho13vEC408cW4JGSWCmC9Q12IP0FEZK2WczCzrxuArQTzQM4veVENCbQKERvUdSfzS9lRIfDkSqv9QHviBExk-Q/file [following]\n",
            "--2022-06-10 08:41:55--  https://uc3ac634d36213bd06ae319e3115.dl.dropboxusercontent.com/cd/0/inline2/Bm40PBy57zC2JPdBFZgvFOE9IfQoQVujt3RVVKzDB5Ygei90ShUmO6FzOzJRqqiVvxbCYQ6oRFiSLmQ-2FxoF5pVcnDTMTBmrRmyMYKMOYeVytTKcxK6vOr8PhesdH5afrVq0-_nv1ek9f2GdbODfAmzwk_Ap1TIyHTrHr0NOjAwi3vkqYaT-ji0y-M5sWkku-yj6AA-mkuYJbVtKYKaYn7vaLkUh2cP8onhPopJZVfYPFWMmBUYoJmJf71UGGWLciieZaksha7R_HlB0ZEmCdkjJq4nq9S-JHM4S2g1kTbZnNkZjHBbqi27lPAAMqCgjMsqrcEhWseCwW66f_wycj1ho13vEC408cW4JGSWCmC9Q12IP0FEZK2WczCzrxuArQTzQM4veVENCbQKERvUdSfzS9lRIfDkSqv9QHviBExk-Q/file\n",
            "Reusing existing connection to uc3ac634d36213bd06ae319e3115.dl.dropboxusercontent.com:443.\n",
            "HTTP request sent, awaiting response... 200 OK\n",
            "Length: 1145989120 (1.1G) [application/x-tar]\n",
            "Saving to: ‘NATS-tss-v1_0-3ffb9-simple.tar.1’\n",
            "\n",
            "NATS-tss-v1_0-3ffb9 100%[===================>]   1.07G  16.6MB/s    in 70s     \n",
            "\n",
            "2022-06-10 08:43:05 (15.7 MB/s) - ‘NATS-tss-v1_0-3ffb9-simple.tar.1’ saved [1145989120/1145989120]\n",
            "\n",
            "Looking in indexes: https://pypi.org/simple, https://us-python.pkg.dev/colab-wheels/public/simple/\n",
            "Requirement already satisfied: xautodl in /usr/local/lib/python3.7/dist-packages (1.0.0)\n",
            "Requirement already satisfied: pyyaml>=5.0.0 in /usr/local/lib/python3.7/dist-packages (from xautodl) (6.0)\n",
            "Requirement already satisfied: fvcore in /usr/local/lib/python3.7/dist-packages (from xautodl) (0.1.5.post20220512)\n",
            "Requirement already satisfied: numpy<=1.19.5,>=1.16.5 in /usr/local/lib/python3.7/dist-packages (from xautodl) (1.19.5)\n",
            "Requirement already satisfied: yacs>=0.1.6 in /usr/local/lib/python3.7/dist-packages (from fvcore->xautodl) (0.1.8)\n",
            "Requirement already satisfied: tqdm in /usr/local/lib/python3.7/dist-packages (from fvcore->xautodl) (4.64.0)\n",
            "Requirement already satisfied: Pillow in /usr/local/lib/python3.7/dist-packages (from fvcore->xautodl) (7.1.2)\n",
            "Requirement already satisfied: tabulate in /usr/local/lib/python3.7/dist-packages (from fvcore->xautodl) (0.8.9)\n",
            "Requirement already satisfied: iopath>=0.1.7 in /usr/local/lib/python3.7/dist-packages (from fvcore->xautodl) (0.1.9)\n",
            "Requirement already satisfied: termcolor>=1.1 in /usr/local/lib/python3.7/dist-packages (from fvcore->xautodl) (1.1.0)\n",
            "Requirement already satisfied: portalocker in /usr/local/lib/python3.7/dist-packages (from iopath>=0.1.7->fvcore->xautodl) (2.4.0)\n"
          ]
        }
      ],
      "source": [
        "!pip install nats_bench\n",
        "!wget \"https://www.dropbox.com/sh/ceeo70u1buow681/AADxyCvBAnE6mMjp7JOoo0LVa/NATS-tss-v1_0-3ffb9-simple.tar\"\n",
        "!tar -xf \"NATS-tss-v1_0-3ffb9-simple.tar\"\n",
        "\n",
        "!pip install xautodl"
      ]
    },
    {
      "cell_type": "code",
      "source": [
        "!wget 'https://www.dropbox.com/s/o2fg17ipz57nru1/?dl=1' -O ImageNet16.tar.gz\n",
        "!tar -xf \"ImageNet16.tar.gz\""
      ],
      "metadata": {
        "colab": {
          "base_uri": "https://localhost:8080/"
        },
        "id": "nOHcpZQ5raC0",
        "outputId": "83100ec3-9df6-488d-a532-b0bfc3423518"
      },
      "execution_count": null,
      "outputs": [
        {
          "output_type": "stream",
          "name": "stdout",
          "text": [
            "--2022-06-10 08:43:16--  https://www.dropbox.com/s/o2fg17ipz57nru1/?dl=1\n",
            "Resolving www.dropbox.com (www.dropbox.com)... 162.125.81.18, 2620:100:6031:18::a27d:5112\n",
            "Connecting to www.dropbox.com (www.dropbox.com)|162.125.81.18|:443... connected.\n",
            "HTTP request sent, awaiting response... 301 Moved Permanently\n",
            "Location: /s/dl/o2fg17ipz57nru1 [following]\n",
            "--2022-06-10 08:43:16--  https://www.dropbox.com/s/dl/o2fg17ipz57nru1\n",
            "Reusing existing connection to www.dropbox.com:443.\n",
            "HTTP request sent, awaiting response... 302 Found\n",
            "Location: https://uc1ad5f1e91ecd2f608ef47c408b.dl-eu.dropboxusercontent.com/cd/0/get/Bm5pV_v6GC_qCygUjfHGcX1s_CchUV8zC0F9wtkz2d6XCw4lihbF4VMjm7A6S3iQADs8cevJigob4n06BdEsQrlLfFkgaGIHKhrHkkuYRmijbvDdaHJI1vyIVhf-Jad3sXOw0npQJdRrt1wSUOY9BkT_EKEtgHbpdIQFYGyc1Qv-PQ7y216Zl94OAPXDhTdpNKc/file?dl=1# [following]\n",
            "--2022-06-10 08:43:17--  https://uc1ad5f1e91ecd2f608ef47c408b.dl-eu.dropboxusercontent.com/cd/0/get/Bm5pV_v6GC_qCygUjfHGcX1s_CchUV8zC0F9wtkz2d6XCw4lihbF4VMjm7A6S3iQADs8cevJigob4n06BdEsQrlLfFkgaGIHKhrHkkuYRmijbvDdaHJI1vyIVhf-Jad3sXOw0npQJdRrt1wSUOY9BkT_EKEtgHbpdIQFYGyc1Qv-PQ7y216Zl94OAPXDhTdpNKc/file?dl=1\n",
            "Resolving uc1ad5f1e91ecd2f608ef47c408b.dl-eu.dropboxusercontent.com (uc1ad5f1e91ecd2f608ef47c408b.dl-eu.dropboxusercontent.com)... 162.125.80.15, 2620:100:6035:15::a27d:550f\n",
            "Connecting to uc1ad5f1e91ecd2f608ef47c408b.dl-eu.dropboxusercontent.com (uc1ad5f1e91ecd2f608ef47c408b.dl-eu.dropboxusercontent.com)|162.125.80.15|:443... connected.\n",
            "HTTP request sent, awaiting response... 200 OK\n",
            "Length: 967949552 (923M) [application/binary]\n",
            "Saving to: ‘ImageNet16.tar.gz’\n",
            "\n",
            "ImageNet16.tar.gz   100%[===================>] 923.11M  10.6MB/s    in 98s     \n",
            "\n",
            "2022-06-10 08:44:57 (9.37 MB/s) - ‘ImageNet16.tar.gz’ saved [967949552/967949552]\n",
            "\n"
          ]
        }
      ]
    },
    {
      "cell_type": "code",
      "execution_count": null,
      "metadata": {
        "id": "Nv12KmtH8OpH"
      },
      "outputs": [],
      "source": [
        "import torchvision.datasets as dset\n",
        "import torchvision.transforms as transforms\n",
        "from xautodl.datasets.DownsampledImageNet import ImageNet16\n",
        "from torchvision import transforms\n",
        "import numpy as np\n",
        "import torch\n",
        "import operator\n",
        "from numba import cuda\n",
        "from nats_bench import create\n",
        "from xautodl.models import get_cell_based_tiny_net\n",
        "import random\n",
        "import pandas as pd\n",
        "import os\n",
        "from scipy import stats\n",
        "import time\n",
        "import operator\n",
        "import math\n",
        "import seaborn as sns\n",
        "import matplotlib.pyplot as plt"
      ]
    },
    {
      "cell_type": "code",
      "execution_count": null,
      "metadata": {
        "id": "8zkHxjuIdqMm"
      },
      "outputs": [],
      "source": [
        "# Create the API instance for the size search space in NATS\n",
        "api = create(\"/content/NATS-tss-v1_0-3ffb9-simple/\", 'tss', fast_mode=True, verbose=False)\n",
        "\n",
        "#tranforms to tensor the input data, no data augmentation needed\n",
        "transform = transforms.Compose([\n",
        "    transforms.ToTensor()\n",
        "])\n",
        "\n",
        "#funtion to retrieve the train loader\n",
        "def get_data(dataset, batch_size, pin_memory=True):\n",
        "  transform = transforms.Compose([\n",
        "    transforms.ToTensor() ])\n",
        "  if dataset == 'cifar10':\n",
        "    train_data = dset.CIFAR10 (\"/content/Cifar10\", train=True ,transform = transform, download=True)\n",
        "\n",
        "  elif dataset == 'cifar100':\n",
        "    train_data = dset.CIFAR100(\"/content/Cifar100\", train=True ,transform = transform, download=True)\n",
        "    \n",
        "  elif dataset == 'ImageNet16-120':\n",
        "    train_data = ImageNet16(\"/content/ImageNet16\", True, transform = transform)\n",
        "\n",
        "  train_loader = torch.utils.data.DataLoader(train_data, batch_size=batch_size, shuffle=True, num_workers=0, pin_memory=pin_memory)\n",
        "  \n",
        "  return train_loader\n"
      ]
    },
    {
      "cell_type": "code",
      "execution_count": null,
      "metadata": {
        "id": "7CkHE9SblctR"
      },
      "outputs": [],
      "source": [
        "#log of kernel function\n",
        "def logdet(K):\n",
        "    s, ld = np.linalg.slogdet(K)\n",
        "    return ld\n",
        "\n",
        "#weight initialization function\n",
        "def init(m):\n",
        "    if isinstance(m, (torch.nn.Conv2d, torch.nn.Linear)):\n",
        "        torch.nn.init.xavier_normal_(m.weight)\n",
        "\n",
        "# function to compute Hamming Distance, using cuda jit library\n",
        "# A is the binary codification of the current Relu output\n",
        "# C is the hamming distance (result of this function) \n",
        "@cuda.jit\n",
        "def constructK(A,C):\n",
        "    i, j = cuda.grid(2)\n",
        "    if i < C.shape[0] and j < C.shape[1]:\n",
        "        tmp = 0.\n",
        "        for k in range(A.shape[1]):\n",
        "            tmp += operator.xor(bool(A[i, k]),bool(A[j, k]))\n",
        "        C[i, j] = tmp"
      ]
    },
    {
      "cell_type": "code",
      "source": [
        "# hook registered on forward in each Relu instance of the network\n",
        "# here we binarize the output of Relu, setup the parameters to parallelize with cuda.jit\n",
        "# construct the kernel matrix\n",
        "def counting_forward_hook(module, inp, out):\n",
        "  if isinstance(inp, tuple):\n",
        "    inp = inp[0]\n",
        "  inp = inp.view(inp.size(0), -1)\n",
        "  inp = (inp > 0).float()\n",
        "\n",
        "  inp = cuda.to_device(inp)\n",
        "  temp = cuda.device_array((inp.shape[0], inp.shape[0]))\n",
        "\n",
        "  threadsperblock = (8,8)\n",
        "  blockspergrid = (16,16)\n",
        "\n",
        "# Start the kernel \n",
        "  constructK[blockspergrid, threadsperblock](inp, temp)\n",
        "\n",
        "# Copy the result back to the host\n",
        "  global Ktemp, device\n",
        "  temp = torch.tensor(temp.copy_to_host()).to(device)\n",
        "  temp = inp.shape[1]-temp\n",
        "  Ktemp = Ktemp + temp\n"
      ],
      "metadata": {
        "id": "4btNaLGVz8wu"
      },
      "execution_count": null,
      "outputs": []
    },
    {
      "cell_type": "code",
      "source": [
        "# dictionary that registers isomorphisms, useful to compute score only in the unique models\n",
        "networks = {}\n",
        "ids = []\n",
        "\n",
        "for i in range(len(api)):\n",
        "  # we use get_unique_str() that return a string unique for every isomorphism\n",
        "  net = api.get_unique_str(i)\n",
        "  if net not in networks.keys():\n",
        "    networks[net] = [i]\n",
        "    ids.append(i)\n",
        "  else :\n",
        "    networks[net].append(i)\n",
        "\n",
        "nets = {}\n",
        "for k,v in networks.items():\n",
        "  if len(v) > 1:\n",
        "    nets[v[0]] = v[1:]\n",
        "  else:\n",
        "    nets[v[0]] = []\n",
        "\n",
        "del networks\n",
        "\n",
        "ids = np.array(ids)"
      ],
      "metadata": {
        "id": "2xnYR3nS1B3S"
      },
      "execution_count": null,
      "outputs": []
    },
    {
      "cell_type": "markdown",
      "source": [
        "#Compute score for all the network\n",
        "Only in the unique networks, no isomorphisms"
      ],
      "metadata": {
        "id": "Rb0deSK-d50F"
      }
    },
    {
      "cell_type": "code",
      "execution_count": null,
      "metadata": {
        "id": "DdhEilu8vPIJ"
      },
      "outputs": [],
      "source": [
        "device = torch.device(\"cuda:0\" if torch.cuda.is_available() else \"cpu\")\n",
        "datasetNames = ['cifar10','cifar100','ImageNet16-120']\n",
        "\n",
        "batch_size = 128 \n",
        "\n",
        "for dataset in datasetNames:\n",
        "  \n",
        "  train_loader = get_data(dataset, batch_size)\n",
        "  \n",
        "  # we compute the score only for the unique architectures\n",
        "  for i in ids:\n",
        "    \n",
        "    start = time.time()\n",
        "\n",
        "    config = api.get_net_config(i, dataset)\n",
        "    network = get_cell_based_tiny_net(config)\n",
        "    network.apply(init)\n",
        "\n",
        "    for name, module in network.named_modules():\n",
        "      if (isinstance(module, torch.nn.modules.activation.ReLU)):\n",
        "        # register on each Relu a forward hook\n",
        "        module.register_forward_hook(counting_forward_hook)\n",
        "  \n",
        "    network = network.to(device)\n",
        "\n",
        "    # initialize the kernel matrix\n",
        "    Ktemp = torch.tensor(np.zeros((batch_size,batch_size))).to(device)\n",
        "    data_iterator = iter(train_loader)\n",
        "    x, target = next(data_iterator)\n",
        "    x, target = x.to(device), target.to(device)\n",
        "    # forward data to network \n",
        "    network(x)\n",
        "    # log of the determinant\n",
        "    score = logdet(Ktemp.cpu().detach().numpy(), target)\n",
        "    \n",
        "    del Ktemp, network, data_iterator\n",
        "\n",
        "    acc = api.get_more_info(int(i),dataset,is_random=False,hp=200)[\"test-accuracy\"]\n",
        "    \n",
        "    # considering time to compute the score\n",
        "    tempo = time.time()-start\n",
        "    csv_dict = {'Dataset': dataset, 'Network': i, 'Metric': score, 'Accuracy': acc, 'Time': tempo}\n",
        "    result = pd.DataFrame([csv_dict])\n",
        "    result.to_csv('out.csv', mode='a', index=False, header=False )\n",
        "    del result\n",
        "\n",
        "    #replicate score in isomorphisms\n",
        "    for net in nets[i]:\n",
        "\n",
        "      csv_dict = {'Dataset': dataset, 'Network': net, 'Metric': score, 'Accuracy': acc, 'Time': tempo}\n",
        "      result = pd.DataFrame([csv_dict])\n",
        "      result.to_csv('out.csv', mode='a', index=False, header=False )\n",
        "      del result\n"
      ]
    },
    {
      "cell_type": "markdown",
      "source": [
        "#Table times per batch size"
      ],
      "metadata": {
        "id": "pbLTLeCC0DNH"
      }
    },
    {
      "cell_type": "code",
      "source": [
        "device = torch.device(\"cuda:0\" if torch.cuda.is_available() else \"cpu\")\n",
        "datasetNames = 'cifar10' #fixed the dataset\n",
        "\n",
        "batch_sizes = [8,16,64,128,256,512] \n",
        "iterations = 20\n",
        "i = 544 #fixed the model\n",
        "\n",
        "config = api.get_net_config(i, dataset)\n",
        "network = get_cell_based_tiny_net(config)\n",
        "network.apply(init)\n",
        "\n",
        "for name, module in network.named_modules():\n",
        "  if (isinstance(module, torch.nn.modules.activation.ReLU)):\n",
        "    module.register_forward_hook(counting_forward_hook)\n",
        "\n",
        "network = network.to(device)\n",
        "\n",
        "for batch_size in batch_sizes:\n",
        "  \n",
        "  train_loader = get_data(dataset, batch_size)\n",
        "  \n",
        "  for j in range(iterations):\n",
        "    \n",
        "    start = time.time()\n",
        "\n",
        "    network.apply(init)\n",
        "\n",
        "    Ktemp = torch.tensor(np.zeros((batch_size,batch_size))).to(device)\n",
        "    data_iterator = iter(train_loader)\n",
        "    x, target = next(data_iterator)\n",
        "    x, target = x.to(device), target.to(device)\n",
        "    network(x)\n",
        "    score = logdet(Ktemp.cpu().detach().numpy(), target)\n",
        "    \n",
        "    del Ktemp, data_iterator\n",
        "\n",
        "    acc = api.get_more_info(int(i),dataset,is_random=False,hp=200)[\"test-accuracy\"]\n",
        "    tempo = time.time()-start\n",
        "    csv_dict = {'Dataset': dataset, 'Network': i, 'Metric': score, 'Accuracy': acc, 'Time': tempo, 'size': batch_size}\n",
        "    result = pd.DataFrame([csv_dict])\n",
        "    result.to_csv('out.csv', mode='a', index=False, header=False )\n"
      ],
      "metadata": {
        "colab": {
          "base_uri": "https://localhost:8080/"
        },
        "id": "qyBrmJ6t0AIh",
        "outputId": "5553fb19-0b55-48b2-d3bd-8c3079e664ec"
      },
      "execution_count": null,
      "outputs": [
        {
          "output_type": "stream",
          "name": "stdout",
          "text": [
            "Files already downloaded and verified\n",
            "Files already downloaded and verified\n",
            "Files already downloaded and verified\n",
            "Files already downloaded and verified\n",
            "Files already downloaded and verified\n",
            "Files already downloaded and verified\n"
          ]
        }
      ]
    },
    {
      "cell_type": "code",
      "source": [
        "strfile = f'/content/out.csv'\n",
        "csv_df = pd.read_csv(strfile,names = ['Dataset','Network','Metric','Accuracy','Time','size'],header = None, index_col=['Dataset'])"
      ],
      "metadata": {
        "id": "QPhyJJ_A1-e5"
      },
      "execution_count": null,
      "outputs": []
    },
    {
      "cell_type": "code",
      "source": [
        "csv_df.groupby('size')['Time'].describe()[['mean','std']].to_latex()"
      ],
      "metadata": {
        "colab": {
          "base_uri": "https://localhost:8080/",
          "height": 87
        },
        "id": "a-TJWQlg7dEp",
        "outputId": "3bc98579-f55c-4999-a239-4280d9707a14"
      },
      "execution_count": null,
      "outputs": [
        {
          "output_type": "execute_result",
          "data": {
            "text/plain": [
              "'\\\\begin{tabular}{lrr}\\n\\\\toprule\\n{} &      mean &       std \\\\\\\\\\nsize &           &           \\\\\\\\\\n\\\\midrule\\n8    &  0.156775 &  0.024288 \\\\\\\\\\n16   &  0.151437 &  0.002760 \\\\\\\\\\n64   &  0.181524 &  0.004438 \\\\\\\\\\n128  &  0.258984 &  0.003784 \\\\\\\\\\n256  &  0.316564 &  0.007100 \\\\\\\\\\n512  &  0.462246 &  0.005050 \\\\\\\\\\n\\\\bottomrule\\n\\\\end{tabular}\\n'"
            ],
            "application/vnd.google.colaboratory.intrinsic+json": {
              "type": "string"
            }
          },
          "metadata": {},
          "execution_count": 12
        }
      ]
    },
    {
      "cell_type": "markdown",
      "source": [
        "#Table score per number of relu"
      ],
      "metadata": {
        "id": "igTxhPJc-KJp"
      }
    },
    {
      "cell_type": "code",
      "source": [
        "\n",
        "device = torch.device(\"cuda:0\" if torch.cuda.is_available() else \"cpu\")\n",
        "dataset = 'cifar10'\n",
        "\n",
        "batch_size = 128 \n",
        "num = 300 # number of model to consider\n",
        "\n",
        "mask = np.random.randint(0,len(ids),num) # we pick randomly 300 models\n",
        "ids = ids[mask]\n",
        "\n",
        "train_loader = get_data(dataset, batch_size)\n",
        "\n",
        "for i in ids:\n",
        "  \n",
        "  start = time.time()\n",
        "\n",
        "  counter = 0 # useful to know the number of Relu \n",
        "  config = api.get_net_config(i, dataset)\n",
        "  network = get_cell_based_tiny_net(config)\n",
        "  network.apply(init)\n",
        "\n",
        "  for name, module in network.named_modules():\n",
        "    if (isinstance(module, torch.nn.modules.activation.ReLU)):\n",
        "      counter += 1\n",
        "      module.register_forward_hook(counting_forward_hook)\n",
        "\n",
        "  network = network.to(device)\n",
        "\n",
        "  Ktemp = torch.tensor(np.zeros((batch_size,batch_size))).to(device)\n",
        "  data_iterator = iter(train_loader)\n",
        "  x, target = next(data_iterator)\n",
        "  x, target = x.to(device), target.to(device)\n",
        "  network(x)\n",
        "  score = logdet(Ktemp.cpu().detach().numpy(), target)\n",
        "  \n",
        "  del Ktemp, network, data_iterator\n",
        "\n",
        "  acc = api.get_more_info(int(i),dataset,is_random=False,hp=200)[\"test-accuracy\"]\n",
        "  tempo = time.time()-start\n",
        "  csv_dict = {'Dataset': dataset, 'Network': i, 'Metric': score, 'Accuracy': acc, 'Time': tempo, 'relu': counter}\n",
        "  result = pd.DataFrame([csv_dict])\n",
        "  result.to_csv('out.csv', mode='a', index=False, header=False )\n",
        "\n",
        "  "
      ],
      "metadata": {
        "colab": {
          "base_uri": "https://localhost:8080/"
        },
        "id": "XLsbGNaI7ep8",
        "outputId": "098b0f10-87cc-48db-efaf-f408d809e160"
      },
      "execution_count": null,
      "outputs": [
        {
          "output_type": "stream",
          "name": "stdout",
          "text": [
            "Files already downloaded and verified\n"
          ]
        }
      ]
    },
    {
      "cell_type": "code",
      "source": [
        "strfile = f'/content/out.csv'\n",
        "csv_df = pd.read_csv(strfile,names = ['Dataset','Network','Metric','Accuracy','Time','Relu'],header = None, index_col=['Dataset'])\n",
        "\n",
        "sns.set_theme(style=\"whitegrid\")\n",
        "ax = sns.boxplot(x=\"Relu\", y=\"Metric\", data=csv_df)\n",
        "plt.savefig('relu.pdf',dpi=300,bbox_inches='tight')\n"
      ],
      "metadata": {
        "colab": {
          "base_uri": "https://localhost:8080/",
          "height": 285
        },
        "id": "RNzS-clFI2rj",
        "outputId": "ec2b444e-12fb-4b20-e497-21f24b69c2e3"
      },
      "execution_count": null,
      "outputs": [
        {
          "output_type": "display_data",
          "data": {
            "text/plain": [
              "<Figure size 432x288 with 1 Axes>"
            ],
            "image/png": "[encoded data removed]"
          },
          "metadata": {}
        }
      ]
    }
  ],
  "metadata": {
    "accelerator": "GPU",
    "colab": {
      "collapsed_sections": [],
      "provenance": []
    },
    "kernelspec": {
      "display_name": "Python 3",
      "name": "python3"
    },
    "language_info": {
      "name": "python"
    }
  },
  "nbformat": 4,
  "nbformat_minor": 0
}